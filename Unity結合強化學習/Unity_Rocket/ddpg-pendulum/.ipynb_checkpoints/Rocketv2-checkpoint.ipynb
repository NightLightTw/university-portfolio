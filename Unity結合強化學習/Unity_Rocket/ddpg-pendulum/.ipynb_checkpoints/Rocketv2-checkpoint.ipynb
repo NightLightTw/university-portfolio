{
 "cells": [
  {
   "cell_type": "code",
   "execution_count": 1,
   "metadata": {},
   "outputs": [],
   "source": [
    "import torch\n",
    "import numpy as np\n",
    "import matplotlib.pyplot as plt\n",
    "import time\n",
    "from mlagents_envs.environment import UnityEnvironment\n",
    "from gym_unity.envs import UnityToGymWrapper\n",
    "\n",
    "from ddpg_agent import Agent\n",
    "\n",
    "%matplotlib inline"
   ]
  },
  {
   "cell_type": "code",
   "execution_count": 2,
   "metadata": {},
   "outputs": [
    {
     "name": "stdout",
     "output_type": "stream",
     "text": [
      "[INFO] Connected to Unity environment with package version 2.2.1-exp.1 and communication version 1.5.0\n",
      "[INFO] Connected new brain: My Behavior?team=0\n"
     ]
    },
    {
     "name": "stderr",
     "output_type": "stream",
     "text": [
      "C:\\Users\\zizhong\\.conda\\envs\\rl\\lib\\site-packages\\gym\\logger.py:34: UserWarning: \u001b[33mWARN: Box bound precision lowered by casting to float32\u001b[0m\n",
      "  warnings.warn(colorize(\"%s: %s\" % (\"WARN\", msg % args), \"yellow\"))\n"
     ]
    }
   ],
   "source": [
    "unity_env = UnityEnvironment(file_name='C:/Users/zizhong/Documents/A1/case/Unity/Unity_easy/My project.exe')\n",
    "env = UnityToGymWrapper(unity_env, allow_multiple_obs=True) #uint8_visual=True"
   ]
  },
  {
   "cell_type": "code",
   "execution_count": 3,
   "metadata": {},
   "outputs": [
    {
     "data": {
      "text/plain": [
       "[array([ 1.2593887e-04,  1.0920708e+01,  1.9738580e-04,  1.5164622e-02,\n",
       "        -1.9266401e-01,  1.7765148e-02], dtype=float32)]"
      ]
     },
     "execution_count": 3,
     "metadata": {},
     "output_type": "execute_result"
    }
   ],
   "source": [
    "env.reset()"
   ]
  },
  {
   "cell_type": "code",
   "execution_count": 4,
   "metadata": {},
   "outputs": [
    {
     "name": "stdout",
     "output_type": "stream",
     "text": [
      "Total reward this episode:-191.25079035758972\n",
      "Total reward this episode:-740.971734046936\n",
      "Total reward this episode:-153.4867091178894\n",
      "Total reward this episode:-908.860652923584\n",
      "Total reward this episode:-158.41739654541016\n",
      "Total reward this episode:-191.06513452529907\n",
      "Total reward this episode:-143.6335847377777\n",
      "Total reward this episode:-661.0686240196228\n",
      "Total reward this episode:-593.5833283662796\n",
      "Total reward this episode:-429.12507343292236\n"
     ]
    }
   ],
   "source": [
    "for episode in range(10):\n",
    "    intial__obseration = env.reset()\n",
    "    done = False\n",
    "    episode_rewards = 0\n",
    "    while not done:\n",
    "        observation, reward, done, info = env.step(env.action_space.sample())\n",
    "        episode_rewards += reward\n",
    "    print(\"Total reward this episode:{}\".format(episode_rewards))"
   ]
  },
  {
   "cell_type": "code",
   "execution_count": 5,
   "metadata": {},
   "outputs": [],
   "source": [
    "agent = Agent(state_size=6,\n",
    "             action_size=3,\n",
    "             random_seed=2)"
   ]
  },
  {
   "cell_type": "code",
   "execution_count": 6,
   "metadata": {},
   "outputs": [
    {
     "name": "stderr",
     "output_type": "stream",
     "text": [
      "C:\\Users\\zizhong\\.conda\\envs\\rl\\lib\\site-packages\\torch\\nn\\functional.py:1628: UserWarning: nn.functional.tanh is deprecated. Use torch.tanh instead.\n",
      "  warnings.warn(\"nn.functional.tanh is deprecated. Use torch.tanh instead.\")\n"
     ]
    },
    {
     "name": "stdout",
     "output_type": "stream",
     "text": [
      "Episode 1000 Average Score: -324.14 score: -372.38 Success rate 0.00 Noise std: 0.000Wall time: 27min\n"
     ]
    }
   ],
   "source": [
    "%%time\n",
    "n_episodes =1000\n",
    "agent.noise.sigma = 3\n",
    "scores = []\n",
    "success = []\n",
    "for i_episode in  range(1, n_episodes+1):\n",
    "    state = env.reset()\n",
    "    score = 0\n",
    "    while True:\n",
    "        action = agent.act(state)\n",
    "        next_state, reward, done, _ = env.step(action)\n",
    "        agent.step(state, action, reward, next_state, done)\n",
    "        state = next_state\n",
    "        score += reward\n",
    "        if done:\n",
    "            success += [reward>0]\n",
    "            break\n",
    "    scores += [score]\n",
    "    print('\\rEpisode', i_episode, 'Average Score: %.2f'%np.mean(scores[-20:]),'score: %.2f'%score,\n",
    "         'Success rate %.2f'%np.mean(success[-20:]), 'Noise std: %.3f'%agent.noise.sigma,end=\"\")\n",
    "    agent.noise.sigma *= 0.9 #0.995\n",
    "    torch.save(agent.actor_local.state_dict(), 'v2_actor.pth')\n",
    "    torch.save(agent.critic_local.state_dict(), 'v2_critic.pth')"
   ]
  },
  {
   "cell_type": "code",
   "execution_count": 7,
   "metadata": {},
   "outputs": [
    {
     "data": {
      "image/png": "[encoded data removed]",
      "text/plain": [
       "<Figure size 432x288 with 1 Axes>"
      ]
     },
     "metadata": {
      "needs_background": "light"
     },
     "output_type": "display_data"
    }
   ],
   "source": [
    "fig = plt.figure()\n",
    "ax = fig.add_subplot(111)\n",
    "plt.plot(scores[-1000:])\n",
    "plt.ylabel('Score')\n",
    "plt.xlabel('Episode #')\n",
    "plt.show()"
   ]
  },
  {
   "cell_type": "code",
   "execution_count": 8,
   "metadata": {},
   "outputs": [
    {
     "data": {
      "text/plain": [
       "[<matplotlib.lines.Line2D at 0x1f3dbdacc18>]"
      ]
     },
     "execution_count": 8,
     "metadata": {},
     "output_type": "execute_result"
    },
    {
     "data": {
      "image/png": "[encoded data removed]",
      "text/plain": [
       "<Figure size 432x288 with 1 Axes>"
      ]
     },
     "metadata": {
      "needs_background": "light"
     },
     "output_type": "display_data"
    }
   ],
   "source": [
    "plt.plot(success[-1000:])"
   ]
  },
  {
   "cell_type": "code",
   "execution_count": 9,
   "metadata": {},
   "outputs": [
    {
     "data": {
      "text/plain": [
       "<All keys matched successfully>"
      ]
     },
     "execution_count": 9,
     "metadata": {},
     "output_type": "execute_result"
    }
   ],
   "source": [
    "agent.actor_local.load_state_dict(torch.load('v2_actor.pth'))\n",
    "agent.critic_local.load_state_dict(torch.load('v2_critic.pth'))"
   ]
  },
  {
   "cell_type": "code",
   "execution_count": 10,
   "metadata": {},
   "outputs": [
    {
     "name": "stdout",
     "output_type": "stream",
     "text": [
      "Failed -322.74524116516113\n",
      "Failed -425.1645202636719\n",
      "Failed -362.55881786346436\n",
      "Failed -330.51926136016846\n",
      "Failed -405.41358518600464\n",
      "Failed -324.88048791885376\n",
      "Failed -357.66908740997314\n",
      "Failed -356.5223026275635\n",
      "Failed -304.52838468551636\n",
      "Failed -328.39151430130005\n"
     ]
    }
   ],
   "source": [
    "for _ in range(10):\n",
    "    state = env.reset()\n",
    "    total_reward = 0\n",
    "    while True:\n",
    "        action = agent.act(state, add_noise=False)\n",
    "        state, reward, done, _ = env.step(action)\n",
    "        total_reward += reward\n",
    "        if done:\n",
    "            text = 'Success' if reward>0 else 'Failed'\n",
    "            print(text, total_reward)\n",
    "            break"
   ]
  },
  {
   "cell_type": "code",
   "execution_count": 11,
   "metadata": {},
   "outputs": [],
   "source": [
    "env.close()"
   ]
  },
  {
   "cell_type": "code",
   "execution_count": null,
   "metadata": {},
   "outputs": [],
   "source": []
  }
 ],
 "metadata": {
  "kernelspec": {
   "display_name": "Python 3",
   "language": "python",
   "name": "python3"
  },
  "language_info": {
   "codemirror_mode": {
    "name": "ipython",
    "version": 3
   },
   "file_extension": ".py",
   "mimetype": "text/x-python",
   "name": "python",
   "nbconvert_exporter": "python",
   "pygments_lexer": "ipython3",
   "version": "3.6.10"
  }
 },
 "nbformat": 4,
 "nbformat_minor": 4
}
