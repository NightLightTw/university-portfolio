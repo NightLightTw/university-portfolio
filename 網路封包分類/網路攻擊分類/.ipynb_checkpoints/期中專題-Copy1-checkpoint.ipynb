{
 "cells": [
  {
   "cell_type": "markdown",
   "id": "2b918993",
   "metadata": {},
   "source": [
    "# 兩類流量分類"
   ]
  },
  {
   "cell_type": "code",
   "execution_count": 1,
   "id": "533f2316",
   "metadata": {},
   "outputs": [],
   "source": [
    "import numpy as np\n",
    "import pandas as pd\n",
    "import matplotlib.pyplot as plt\n",
    "from tensorflow.keras.models import Sequential\n",
    "from tensorflow.keras.layers import Dense, Activation, Dropout, BatchNormalization\n",
    "from tensorflow.keras.optimizers import SGD, Adam\n",
    "from tensorflow.keras.utils import to_categorical\n",
    "\n",
    "%matplotlib inline"
   ]
  },
  {
   "cell_type": "code",
   "execution_count": 2,
   "id": "95a2539f",
   "metadata": {},
   "outputs": [
    {
     "name": "stdout",
     "output_type": "stream",
     "text": [
      "(2502, 77)\n",
      "(2727, 77)\n"
     ]
    }
   ],
   "source": [
    "flow1 = pd.read_csv('./flow1_v1.csv', header=None)\n",
    "flow2 = pd.read_csv('./flow2_v1.csv', header=None)\n",
    "print(flow1.shape)\n",
    "print(flow2.shape)"
   ]
  },
  {
   "cell_type": "code",
   "execution_count": 3,
   "id": "4557ccbe",
   "metadata": {},
   "outputs": [],
   "source": [
    "flow1.insert(77,column=\"label\",value=0)\n",
    "flow2.insert(77,column='label',value=1)"
   ]
  },
  {
   "cell_type": "code",
   "execution_count": 4,
   "id": "9c22d8ff",
   "metadata": {},
   "outputs": [
    {
     "name": "stdout",
     "output_type": "stream",
     "text": [
      "(5229, 78)\n"
     ]
    }
   ],
   "source": [
    "data = flow1.append(flow2,ignore_index=True)\n",
    "print(data.shape)"
   ]
  },
  {
   "cell_type": "code",
   "execution_count": 5,
   "id": "d6f98c3e",
   "metadata": {},
   "outputs": [],
   "source": [
    "y_data = data['label']\n",
    "y_data = np.array(y_data)"
   ]
  },
  {
   "cell_type": "code",
   "execution_count": 6,
   "id": "9bcee316",
   "metadata": {},
   "outputs": [],
   "source": [
    "x_data = data.drop(columns=['label'])\n",
    "x_data = np.array(x_data)"
   ]
  },
  {
   "cell_type": "code",
   "execution_count": 7,
   "id": "c2e2047e",
   "metadata": {},
   "outputs": [],
   "source": [
    "from sklearn.model_selection import train_test_split\n",
    "X_train, X_test, y_train, y_test = train_test_split(x_data, y_data, test_size=0.2, random_state=666)"
   ]
  },
  {
   "cell_type": "code",
   "execution_count": 8,
   "id": "e650bca5",
   "metadata": {},
   "outputs": [],
   "source": [
    "#one-hot encoding\n",
    "Y_train = to_categorical(y_train) \n",
    "Y_test = to_categorical(y_test)"
   ]
  },
  {
   "cell_type": "markdown",
   "id": "061cf05a",
   "metadata": {},
   "source": [
    "## 模型"
   ]
  },
  {
   "cell_type": "code",
   "execution_count": 9,
   "id": "5bb42429",
   "metadata": {},
   "outputs": [
    {
     "name": "stdout",
     "output_type": "stream",
     "text": [
      "Model: \"sequential\"\n",
      "_________________________________________________________________\n",
      "Layer (type)                 Output Shape              Param #   \n",
      "=================================================================\n",
      "dense (Dense)                (None, 128)               9984      \n",
      "_________________________________________________________________\n",
      "dense_1 (Dense)              (None, 200)               25800     \n",
      "_________________________________________________________________\n",
      "dense_2 (Dense)              (None, 2)                 402       \n",
      "=================================================================\n",
      "Total params: 36,186\n",
      "Trainable params: 36,186\n",
      "Non-trainable params: 0\n",
      "_________________________________________________________________\n"
     ]
    }
   ],
   "source": [
    "model = Sequential()\n",
    "model.add(Dense(128, input_shape=(77,), activation=\"relu\"))\n",
    "model.add(Dense(200, activation=\"relu\"))\n",
    "model.add(Dense(2, activation=\"softmax\"))\n",
    "model.summary() \n",
    "model.compile(loss='categorical_crossentropy', optimizer=SGD(lr=0.1), metrics=['accuracy']) #SGD>Adam"
   ]
  },
  {
   "cell_type": "code",
   "execution_count": 10,
   "id": "d5dcf68c",
   "metadata": {},
   "outputs": [],
   "source": [
    "Epoch = 50\n",
    "batch_size = 32"
   ]
  },
  {
   "cell_type": "code",
   "execution_count": 11,
   "id": "b54371e1",
   "metadata": {
    "scrolled": true
   },
   "outputs": [
    {
     "name": "stdout",
     "output_type": "stream",
     "text": [
      "Epoch 1/50\n",
      "131/131 [==============================] - 1s 3ms/step - loss: nan - accuracy: 0.4726 - val_loss: nan - val_accuracy: 0.4809\n",
      "Epoch 2/50\n",
      "131/131 [==============================] - 0s 1ms/step - loss: nan - accuracy: 0.4653 - val_loss: nan - val_accuracy: 0.4809\n",
      "Epoch 3/50\n",
      "131/131 [==============================] - 0s 1ms/step - loss: nan - accuracy: 0.4717 - val_loss: nan - val_accuracy: 0.4809\n",
      "Epoch 4/50\n",
      "131/131 [==============================] - 0s 1ms/step - loss: nan - accuracy: 0.4652 - val_loss: nan - val_accuracy: 0.4809\n",
      "Epoch 5/50\n",
      "131/131 [==============================] - 0s 1ms/step - loss: nan - accuracy: 0.4769 - val_loss: nan - val_accuracy: 0.4809\n",
      "Epoch 6/50\n",
      "131/131 [==============================] - 0s 1ms/step - loss: nan - accuracy: 0.4808 - val_loss: nan - val_accuracy: 0.4809\n",
      "Epoch 7/50\n",
      "131/131 [==============================] - 0s 1ms/step - loss: nan - accuracy: 0.4667 - val_loss: nan - val_accuracy: 0.4809\n",
      "Epoch 8/50\n",
      "131/131 [==============================] - 0s 1ms/step - loss: nan - accuracy: 0.4725 - val_loss: nan - val_accuracy: 0.4809\n",
      "Epoch 9/50\n",
      "131/131 [==============================] - 0s 1ms/step - loss: nan - accuracy: 0.4759 - val_loss: nan - val_accuracy: 0.4809\n",
      "Epoch 10/50\n",
      "131/131 [==============================] - 0s 1ms/step - loss: nan - accuracy: 0.4675 - val_loss: nan - val_accuracy: 0.4809\n",
      "Epoch 11/50\n",
      "131/131 [==============================] - 0s 1ms/step - loss: nan - accuracy: 0.4759 - val_loss: nan - val_accuracy: 0.4809\n",
      "Epoch 12/50\n",
      "131/131 [==============================] - 0s 1ms/step - loss: nan - accuracy: 0.4722 - val_loss: nan - val_accuracy: 0.4809\n",
      "Epoch 13/50\n",
      "131/131 [==============================] - 0s 1ms/step - loss: nan - accuracy: 0.4748 - val_loss: nan - val_accuracy: 0.4809\n",
      "Epoch 14/50\n",
      "131/131 [==============================] - 0s 1ms/step - loss: nan - accuracy: 0.4775 - val_loss: nan - val_accuracy: 0.4809\n",
      "Epoch 15/50\n",
      "131/131 [==============================] - 0s 1ms/step - loss: nan - accuracy: 0.4680 - val_loss: nan - val_accuracy: 0.4809\n",
      "Epoch 16/50\n",
      "131/131 [==============================] - 0s 1ms/step - loss: nan - accuracy: 0.4812 - val_loss: nan - val_accuracy: 0.4809\n",
      "Epoch 17/50\n",
      "131/131 [==============================] - 0s 1ms/step - loss: nan - accuracy: 0.4747 - val_loss: nan - val_accuracy: 0.4809\n",
      "Epoch 18/50\n",
      "131/131 [==============================] - 0s 1ms/step - loss: nan - accuracy: 0.4754 - val_loss: nan - val_accuracy: 0.4809\n",
      "Epoch 19/50\n",
      "131/131 [==============================] - 0s 1ms/step - loss: nan - accuracy: 0.4785 - val_loss: nan - val_accuracy: 0.4809\n",
      "Epoch 20/50\n",
      "131/131 [==============================] - 0s 1ms/step - loss: nan - accuracy: 0.4902 - val_loss: nan - val_accuracy: 0.4809\n",
      "Epoch 21/50\n",
      "131/131 [==============================] - 0s 1ms/step - loss: nan - accuracy: 0.4573 - val_loss: nan - val_accuracy: 0.4809\n",
      "Epoch 22/50\n",
      "131/131 [==============================] - 0s 1ms/step - loss: nan - accuracy: 0.4898 - val_loss: nan - val_accuracy: 0.4809\n",
      "Epoch 23/50\n",
      "131/131 [==============================] - 0s 1ms/step - loss: nan - accuracy: 0.4926 - val_loss: nan - val_accuracy: 0.4809\n",
      "Epoch 24/50\n",
      "131/131 [==============================] - 0s 1ms/step - loss: nan - accuracy: 0.4817 - val_loss: nan - val_accuracy: 0.4809\n",
      "Epoch 25/50\n",
      "131/131 [==============================] - 0s 1ms/step - loss: nan - accuracy: 0.4705 - val_loss: nan - val_accuracy: 0.4809\n",
      "Epoch 26/50\n",
      "131/131 [==============================] - 0s 1ms/step - loss: nan - accuracy: 0.4777 - val_loss: nan - val_accuracy: 0.4809\n",
      "Epoch 27/50\n",
      "131/131 [==============================] - 0s 1ms/step - loss: nan - accuracy: 0.4822 - val_loss: nan - val_accuracy: 0.4809\n",
      "Epoch 28/50\n",
      "131/131 [==============================] - 0s 1ms/step - loss: nan - accuracy: 0.4886 - val_loss: nan - val_accuracy: 0.4809\n",
      "Epoch 29/50\n",
      "131/131 [==============================] - 0s 1ms/step - loss: nan - accuracy: 0.4789 - val_loss: nan - val_accuracy: 0.4809\n",
      "Epoch 30/50\n",
      "131/131 [==============================] - 0s 1ms/step - loss: nan - accuracy: 0.4755 - val_loss: nan - val_accuracy: 0.4809\n",
      "Epoch 31/50\n",
      "131/131 [==============================] - 0s 2ms/step - loss: nan - accuracy: 0.4772 - val_loss: nan - val_accuracy: 0.4809\n",
      "Epoch 32/50\n",
      "131/131 [==============================] - 0s 2ms/step - loss: nan - accuracy: 0.4740 - val_loss: nan - val_accuracy: 0.4809\n",
      "Epoch 33/50\n",
      "131/131 [==============================] - 0s 2ms/step - loss: nan - accuracy: 0.4789 - val_loss: nan - val_accuracy: 0.4809\n",
      "Epoch 34/50\n",
      "131/131 [==============================] - 0s 2ms/step - loss: nan - accuracy: 0.4886 - val_loss: nan - val_accuracy: 0.4809\n",
      "Epoch 35/50\n",
      "131/131 [==============================] - 0s 2ms/step - loss: nan - accuracy: 0.4780 - val_loss: nan - val_accuracy: 0.4809\n",
      "Epoch 36/50\n",
      "131/131 [==============================] - 0s 2ms/step - loss: nan - accuracy: 0.4758 - val_loss: nan - val_accuracy: 0.4809\n",
      "Epoch 37/50\n",
      "131/131 [==============================] - 0s 2ms/step - loss: nan - accuracy: 0.4732 - val_loss: nan - val_accuracy: 0.4809\n",
      "Epoch 38/50\n",
      "131/131 [==============================] - 0s 2ms/step - loss: nan - accuracy: 0.4786 - val_loss: nan - val_accuracy: 0.4809\n",
      "Epoch 39/50\n",
      "131/131 [==============================] - 0s 2ms/step - loss: nan - accuracy: 0.4748 - val_loss: nan - val_accuracy: 0.4809\n",
      "Epoch 40/50\n",
      "131/131 [==============================] - 0s 2ms/step - loss: nan - accuracy: 0.4709 - val_loss: nan - val_accuracy: 0.4809\n",
      "Epoch 41/50\n",
      "131/131 [==============================] - 0s 2ms/step - loss: nan - accuracy: 0.4803 - val_loss: nan - val_accuracy: 0.4809\n",
      "Epoch 42/50\n",
      "131/131 [==============================] - 0s 2ms/step - loss: nan - accuracy: 0.4760 - val_loss: nan - val_accuracy: 0.4809\n",
      "Epoch 43/50\n",
      "131/131 [==============================] - 0s 2ms/step - loss: nan - accuracy: 0.4803 - val_loss: nan - val_accuracy: 0.4809\n",
      "Epoch 44/50\n",
      "131/131 [==============================] - 0s 2ms/step - loss: nan - accuracy: 0.4830 - val_loss: nan - val_accuracy: 0.4809\n",
      "Epoch 45/50\n",
      "131/131 [==============================] - 0s 2ms/step - loss: nan - accuracy: 0.4734 - val_loss: nan - val_accuracy: 0.4809\n",
      "Epoch 46/50\n",
      "131/131 [==============================] - 0s 2ms/step - loss: nan - accuracy: 0.4701 - val_loss: nan - val_accuracy: 0.4809\n",
      "Epoch 47/50\n",
      "131/131 [==============================] - 0s 2ms/step - loss: nan - accuracy: 0.4727 - val_loss: nan - val_accuracy: 0.4809\n",
      "Epoch 48/50\n",
      "131/131 [==============================] - 0s 2ms/step - loss: nan - accuracy: 0.4736 - val_loss: nan - val_accuracy: 0.4809\n",
      "Epoch 49/50\n",
      "131/131 [==============================] - 0s 2ms/step - loss: nan - accuracy: 0.4930 - val_loss: nan - val_accuracy: 0.4809\n",
      "Epoch 50/50\n",
      "131/131 [==============================] - 0s 2ms/step - loss: nan - accuracy: 0.4864 - val_loss: nan - val_accuracy: 0.4809\n"
     ]
    }
   ],
   "source": [
    "history = model.fit(X_train, Y_train, validation_data=(X_test, Y_test), batch_size=batch_size, epochs=Epoch)"
   ]
  },
  {
   "cell_type": "code",
   "execution_count": null,
   "id": "8619eadf",
   "metadata": {},
   "outputs": [],
   "source": []
  }
 ],
 "metadata": {
  "kernelspec": {
   "display_name": "Python 3 (ipykernel)",
   "language": "python",
   "name": "python3"
  },
  "language_info": {
   "codemirror_mode": {
    "name": "ipython",
    "version": 3
   },
   "file_extension": ".py",
   "mimetype": "text/x-python",
   "name": "python",
   "nbconvert_exporter": "python",
   "pygments_lexer": "ipython3",
   "version": "3.7.11"
  }
 },
 "nbformat": 4,
 "nbformat_minor": 5
}
