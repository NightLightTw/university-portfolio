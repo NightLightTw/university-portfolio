{
 "cells": [
  {
   "cell_type": "markdown",
   "id": "2b918993",
   "metadata": {},
   "source": [
    "# 兩類流量分類"
   ]
  },
  {
   "cell_type": "code",
   "execution_count": 1,
   "id": "533f2316",
   "metadata": {},
   "outputs": [],
   "source": [
    "import numpy as np\n",
    "import pandas as pd\n",
    "import matplotlib.pyplot as plt\n",
    "from tensorflow.keras.models import Sequential\n",
    "from tensorflow.keras.layers import Dense, Activation, Dropout, BatchNormalization\n",
    "from tensorflow.keras.optimizers import SGD, Adam\n",
    "from tensorflow.keras.utils import to_categorical\n",
    "import tensorflow as tf\n",
    "import wandb\n",
    "from wandb.keras import WandbCallback\n",
    "import sys\n",
    "\n",
    "%matplotlib inline"
   ]
  },
  {
   "cell_type": "markdown",
   "id": "4b9bb697",
   "metadata": {},
   "source": [
    "## 資料前處理"
   ]
  },
  {
   "cell_type": "code",
   "execution_count": 2,
   "id": "95a2539f",
   "metadata": {},
   "outputs": [
    {
     "name": "stdout",
     "output_type": "stream",
     "text": [
      "(2502, 77)\n",
      "(2727, 77)\n"
     ]
    }
   ],
   "source": [
    "flow1 = pd.read_csv('./flow1_v1.csv', header=None)\n",
    "flow2 = pd.read_csv('./flow2_v1.csv', header=None)\n",
    "print(flow1.shape)\n",
    "print(flow2.shape)"
   ]
  },
  {
   "cell_type": "code",
   "execution_count": 3,
   "id": "4b5b24ee",
   "metadata": {},
   "outputs": [
    {
     "data": {
      "text/html": [
       "<div>\n",
       "<style scoped>\n",
       "    .dataframe tbody tr th:only-of-type {\n",
       "        vertical-align: middle;\n",
       "    }\n",
       "\n",
       "    .dataframe tbody tr th {\n",
       "        vertical-align: top;\n",
       "    }\n",
       "\n",
       "    .dataframe thead th {\n",
       "        text-align: right;\n",
       "    }\n",
       "</style>\n",
       "<table border=\"1\" class=\"dataframe\">\n",
       "  <thead>\n",
       "    <tr style=\"text-align: right;\">\n",
       "      <th></th>\n",
       "      <th>0</th>\n",
       "      <th>1</th>\n",
       "      <th>2</th>\n",
       "      <th>3</th>\n",
       "      <th>4</th>\n",
       "      <th>5</th>\n",
       "      <th>6</th>\n",
       "      <th>7</th>\n",
       "      <th>8</th>\n",
       "      <th>9</th>\n",
       "      <th>...</th>\n",
       "      <th>67</th>\n",
       "      <th>68</th>\n",
       "      <th>69</th>\n",
       "      <th>70</th>\n",
       "      <th>71</th>\n",
       "      <th>72</th>\n",
       "      <th>73</th>\n",
       "      <th>74</th>\n",
       "      <th>75</th>\n",
       "      <th>76</th>\n",
       "    </tr>\n",
       "  </thead>\n",
       "  <tbody>\n",
       "    <tr>\n",
       "      <th>0</th>\n",
       "      <td>250840</td>\n",
       "      <td>6</td>\n",
       "      <td>7</td>\n",
       "      <td>1079</td>\n",
       "      <td>201</td>\n",
       "      <td>537</td>\n",
       "      <td>0</td>\n",
       "      <td>179.833333</td>\n",
       "      <td>260.004167</td>\n",
       "      <td>137</td>\n",
       "      <td>...</td>\n",
       "      <td>3</td>\n",
       "      <td>32</td>\n",
       "      <td>0.0</td>\n",
       "      <td>0.0</td>\n",
       "      <td>0.0</td>\n",
       "      <td>0.0</td>\n",
       "      <td>0.0</td>\n",
       "      <td>0.0</td>\n",
       "      <td>0.0</td>\n",
       "      <td>0.0</td>\n",
       "    </tr>\n",
       "    <tr>\n",
       "      <th>1</th>\n",
       "      <td>27166</td>\n",
       "      <td>2</td>\n",
       "      <td>1</td>\n",
       "      <td>31</td>\n",
       "      <td>0</td>\n",
       "      <td>31</td>\n",
       "      <td>0</td>\n",
       "      <td>15.500000</td>\n",
       "      <td>21.920310</td>\n",
       "      <td>0</td>\n",
       "      <td>...</td>\n",
       "      <td>0</td>\n",
       "      <td>32</td>\n",
       "      <td>0.0</td>\n",
       "      <td>0.0</td>\n",
       "      <td>0.0</td>\n",
       "      <td>0.0</td>\n",
       "      <td>0.0</td>\n",
       "      <td>0.0</td>\n",
       "      <td>0.0</td>\n",
       "      <td>0.0</td>\n",
       "    </tr>\n",
       "    <tr>\n",
       "      <th>2</th>\n",
       "      <td>11626</td>\n",
       "      <td>2</td>\n",
       "      <td>0</td>\n",
       "      <td>85</td>\n",
       "      <td>0</td>\n",
       "      <td>85</td>\n",
       "      <td>0</td>\n",
       "      <td>42.500000</td>\n",
       "      <td>60.104076</td>\n",
       "      <td>0</td>\n",
       "      <td>...</td>\n",
       "      <td>0</td>\n",
       "      <td>32</td>\n",
       "      <td>0.0</td>\n",
       "      <td>0.0</td>\n",
       "      <td>0.0</td>\n",
       "      <td>0.0</td>\n",
       "      <td>0.0</td>\n",
       "      <td>0.0</td>\n",
       "      <td>0.0</td>\n",
       "      <td>0.0</td>\n",
       "    </tr>\n",
       "    <tr>\n",
       "      <th>3</th>\n",
       "      <td>16</td>\n",
       "      <td>2</td>\n",
       "      <td>0</td>\n",
       "      <td>0</td>\n",
       "      <td>0</td>\n",
       "      <td>0</td>\n",
       "      <td>0</td>\n",
       "      <td>0.000000</td>\n",
       "      <td>0.000000</td>\n",
       "      <td>0</td>\n",
       "      <td>...</td>\n",
       "      <td>0</td>\n",
       "      <td>32</td>\n",
       "      <td>0.0</td>\n",
       "      <td>0.0</td>\n",
       "      <td>0.0</td>\n",
       "      <td>0.0</td>\n",
       "      <td>0.0</td>\n",
       "      <td>0.0</td>\n",
       "      <td>0.0</td>\n",
       "      <td>0.0</td>\n",
       "    </tr>\n",
       "    <tr>\n",
       "      <th>4</th>\n",
       "      <td>37180</td>\n",
       "      <td>1</td>\n",
       "      <td>1</td>\n",
       "      <td>0</td>\n",
       "      <td>0</td>\n",
       "      <td>0</td>\n",
       "      <td>0</td>\n",
       "      <td>0.000000</td>\n",
       "      <td>0.000000</td>\n",
       "      <td>0</td>\n",
       "      <td>...</td>\n",
       "      <td>0</td>\n",
       "      <td>32</td>\n",
       "      <td>0.0</td>\n",
       "      <td>0.0</td>\n",
       "      <td>0.0</td>\n",
       "      <td>0.0</td>\n",
       "      <td>0.0</td>\n",
       "      <td>0.0</td>\n",
       "      <td>0.0</td>\n",
       "      <td>0.0</td>\n",
       "    </tr>\n",
       "  </tbody>\n",
       "</table>\n",
       "<p>5 rows × 77 columns</p>\n",
       "</div>"
      ],
      "text/plain": [
       "       0   1   2     3    4    5   6           7           8    9   ...  67  \\\n",
       "0  250840   6   7  1079  201  537   0  179.833333  260.004167  137  ...   3   \n",
       "1   27166   2   1    31    0   31   0   15.500000   21.920310    0  ...   0   \n",
       "2   11626   2   0    85    0   85   0   42.500000   60.104076    0  ...   0   \n",
       "3      16   2   0     0    0    0   0    0.000000    0.000000    0  ...   0   \n",
       "4   37180   1   1     0    0    0   0    0.000000    0.000000    0  ...   0   \n",
       "\n",
       "   68   69   70   71   72   73   74   75   76  \n",
       "0  32  0.0  0.0  0.0  0.0  0.0  0.0  0.0  0.0  \n",
       "1  32  0.0  0.0  0.0  0.0  0.0  0.0  0.0  0.0  \n",
       "2  32  0.0  0.0  0.0  0.0  0.0  0.0  0.0  0.0  \n",
       "3  32  0.0  0.0  0.0  0.0  0.0  0.0  0.0  0.0  \n",
       "4  32  0.0  0.0  0.0  0.0  0.0  0.0  0.0  0.0  \n",
       "\n",
       "[5 rows x 77 columns]"
      ]
     },
     "execution_count": 3,
     "metadata": {},
     "output_type": "execute_result"
    }
   ],
   "source": [
    "flow1.head()"
   ]
  },
  {
   "cell_type": "code",
   "execution_count": 4,
   "id": "f2a31b09",
   "metadata": {},
   "outputs": [
    {
     "data": {
      "text/html": [
       "<div>\n",
       "<style scoped>\n",
       "    .dataframe tbody tr th:only-of-type {\n",
       "        vertical-align: middle;\n",
       "    }\n",
       "\n",
       "    .dataframe tbody tr th {\n",
       "        vertical-align: top;\n",
       "    }\n",
       "\n",
       "    .dataframe thead th {\n",
       "        text-align: right;\n",
       "    }\n",
       "</style>\n",
       "<table border=\"1\" class=\"dataframe\">\n",
       "  <thead>\n",
       "    <tr style=\"text-align: right;\">\n",
       "      <th></th>\n",
       "      <th>0</th>\n",
       "      <th>1</th>\n",
       "      <th>2</th>\n",
       "      <th>3</th>\n",
       "      <th>4</th>\n",
       "      <th>5</th>\n",
       "      <th>6</th>\n",
       "      <th>7</th>\n",
       "      <th>8</th>\n",
       "      <th>9</th>\n",
       "      <th>...</th>\n",
       "      <th>67</th>\n",
       "      <th>68</th>\n",
       "      <th>69</th>\n",
       "      <th>70</th>\n",
       "      <th>71</th>\n",
       "      <th>72</th>\n",
       "      <th>73</th>\n",
       "      <th>74</th>\n",
       "      <th>75</th>\n",
       "      <th>76</th>\n",
       "    </tr>\n",
       "  </thead>\n",
       "  <tbody>\n",
       "    <tr>\n",
       "      <th>0</th>\n",
       "      <td>16560</td>\n",
       "      <td>2</td>\n",
       "      <td>0</td>\n",
       "      <td>85</td>\n",
       "      <td>0</td>\n",
       "      <td>85</td>\n",
       "      <td>0</td>\n",
       "      <td>42.5</td>\n",
       "      <td>60.104076</td>\n",
       "      <td>0</td>\n",
       "      <td>...</td>\n",
       "      <td>0</td>\n",
       "      <td>32</td>\n",
       "      <td>0.0</td>\n",
       "      <td>0.0</td>\n",
       "      <td>0</td>\n",
       "      <td>0</td>\n",
       "      <td>0.0</td>\n",
       "      <td>0.0</td>\n",
       "      <td>0.0</td>\n",
       "      <td>0.0</td>\n",
       "    </tr>\n",
       "    <tr>\n",
       "      <th>1</th>\n",
       "      <td>156</td>\n",
       "      <td>2</td>\n",
       "      <td>0</td>\n",
       "      <td>0</td>\n",
       "      <td>0</td>\n",
       "      <td>0</td>\n",
       "      <td>0</td>\n",
       "      <td>0.0</td>\n",
       "      <td>0.000000</td>\n",
       "      <td>0</td>\n",
       "      <td>...</td>\n",
       "      <td>0</td>\n",
       "      <td>32</td>\n",
       "      <td>0.0</td>\n",
       "      <td>0.0</td>\n",
       "      <td>0</td>\n",
       "      <td>0</td>\n",
       "      <td>0.0</td>\n",
       "      <td>0.0</td>\n",
       "      <td>0.0</td>\n",
       "      <td>0.0</td>\n",
       "    </tr>\n",
       "    <tr>\n",
       "      <th>2</th>\n",
       "      <td>37181</td>\n",
       "      <td>1</td>\n",
       "      <td>1</td>\n",
       "      <td>0</td>\n",
       "      <td>0</td>\n",
       "      <td>0</td>\n",
       "      <td>0</td>\n",
       "      <td>0.0</td>\n",
       "      <td>0.000000</td>\n",
       "      <td>0</td>\n",
       "      <td>...</td>\n",
       "      <td>0</td>\n",
       "      <td>32</td>\n",
       "      <td>0.0</td>\n",
       "      <td>0.0</td>\n",
       "      <td>0</td>\n",
       "      <td>0</td>\n",
       "      <td>0.0</td>\n",
       "      <td>0.0</td>\n",
       "      <td>0.0</td>\n",
       "      <td>0.0</td>\n",
       "    </tr>\n",
       "    <tr>\n",
       "      <th>3</th>\n",
       "      <td>2496023</td>\n",
       "      <td>1</td>\n",
       "      <td>3</td>\n",
       "      <td>31</td>\n",
       "      <td>31</td>\n",
       "      <td>31</td>\n",
       "      <td>31</td>\n",
       "      <td>31.0</td>\n",
       "      <td>0.000000</td>\n",
       "      <td>31</td>\n",
       "      <td>...</td>\n",
       "      <td>0</td>\n",
       "      <td>32</td>\n",
       "      <td>0.0</td>\n",
       "      <td>0.0</td>\n",
       "      <td>0</td>\n",
       "      <td>0</td>\n",
       "      <td>0.0</td>\n",
       "      <td>0.0</td>\n",
       "      <td>0.0</td>\n",
       "      <td>0.0</td>\n",
       "    </tr>\n",
       "    <tr>\n",
       "      <th>4</th>\n",
       "      <td>52</td>\n",
       "      <td>2</td>\n",
       "      <td>0</td>\n",
       "      <td>0</td>\n",
       "      <td>0</td>\n",
       "      <td>0</td>\n",
       "      <td>0</td>\n",
       "      <td>0.0</td>\n",
       "      <td>0.000000</td>\n",
       "      <td>0</td>\n",
       "      <td>...</td>\n",
       "      <td>0</td>\n",
       "      <td>32</td>\n",
       "      <td>0.0</td>\n",
       "      <td>0.0</td>\n",
       "      <td>0</td>\n",
       "      <td>0</td>\n",
       "      <td>0.0</td>\n",
       "      <td>0.0</td>\n",
       "      <td>0.0</td>\n",
       "      <td>0.0</td>\n",
       "    </tr>\n",
       "  </tbody>\n",
       "</table>\n",
       "<p>5 rows × 77 columns</p>\n",
       "</div>"
      ],
      "text/plain": [
       "        0   1   2   3   4   5   6     7          8   9   ...  67  68   69  \\\n",
       "0    16560   2   0  85   0  85   0  42.5  60.104076   0  ...   0  32  0.0   \n",
       "1      156   2   0   0   0   0   0   0.0   0.000000   0  ...   0  32  0.0   \n",
       "2    37181   1   1   0   0   0   0   0.0   0.000000   0  ...   0  32  0.0   \n",
       "3  2496023   1   3  31  31  31  31  31.0   0.000000  31  ...   0  32  0.0   \n",
       "4       52   2   0   0   0   0   0   0.0   0.000000   0  ...   0  32  0.0   \n",
       "\n",
       "    70  71  72   73   74   75   76  \n",
       "0  0.0   0   0  0.0  0.0  0.0  0.0  \n",
       "1  0.0   0   0  0.0  0.0  0.0  0.0  \n",
       "2  0.0   0   0  0.0  0.0  0.0  0.0  \n",
       "3  0.0   0   0  0.0  0.0  0.0  0.0  \n",
       "4  0.0   0   0  0.0  0.0  0.0  0.0  \n",
       "\n",
       "[5 rows x 77 columns]"
      ]
     },
     "execution_count": 4,
     "metadata": {},
     "output_type": "execute_result"
    }
   ],
   "source": [
    "flow2.head()"
   ]
  },
  {
   "cell_type": "code",
   "execution_count": 5,
   "id": "4557ccbe",
   "metadata": {},
   "outputs": [
    {
     "data": {
      "text/html": [
       "<div>\n",
       "<style scoped>\n",
       "    .dataframe tbody tr th:only-of-type {\n",
       "        vertical-align: middle;\n",
       "    }\n",
       "\n",
       "    .dataframe tbody tr th {\n",
       "        vertical-align: top;\n",
       "    }\n",
       "\n",
       "    .dataframe thead th {\n",
       "        text-align: right;\n",
       "    }\n",
       "</style>\n",
       "<table border=\"1\" class=\"dataframe\">\n",
       "  <thead>\n",
       "    <tr style=\"text-align: right;\">\n",
       "      <th></th>\n",
       "      <th>0</th>\n",
       "      <th>1</th>\n",
       "      <th>2</th>\n",
       "      <th>3</th>\n",
       "      <th>4</th>\n",
       "      <th>5</th>\n",
       "      <th>6</th>\n",
       "      <th>7</th>\n",
       "      <th>8</th>\n",
       "      <th>9</th>\n",
       "      <th>...</th>\n",
       "      <th>68</th>\n",
       "      <th>69</th>\n",
       "      <th>70</th>\n",
       "      <th>71</th>\n",
       "      <th>72</th>\n",
       "      <th>73</th>\n",
       "      <th>74</th>\n",
       "      <th>75</th>\n",
       "      <th>76</th>\n",
       "      <th>label</th>\n",
       "    </tr>\n",
       "  </thead>\n",
       "  <tbody>\n",
       "    <tr>\n",
       "      <th>0</th>\n",
       "      <td>250840</td>\n",
       "      <td>6</td>\n",
       "      <td>7</td>\n",
       "      <td>1079</td>\n",
       "      <td>201</td>\n",
       "      <td>537</td>\n",
       "      <td>0</td>\n",
       "      <td>179.833333</td>\n",
       "      <td>260.004167</td>\n",
       "      <td>137</td>\n",
       "      <td>...</td>\n",
       "      <td>32</td>\n",
       "      <td>0.0</td>\n",
       "      <td>0.0</td>\n",
       "      <td>0.0</td>\n",
       "      <td>0.0</td>\n",
       "      <td>0.0</td>\n",
       "      <td>0.0</td>\n",
       "      <td>0.0</td>\n",
       "      <td>0.0</td>\n",
       "      <td>0</td>\n",
       "    </tr>\n",
       "    <tr>\n",
       "      <th>1</th>\n",
       "      <td>27166</td>\n",
       "      <td>2</td>\n",
       "      <td>1</td>\n",
       "      <td>31</td>\n",
       "      <td>0</td>\n",
       "      <td>31</td>\n",
       "      <td>0</td>\n",
       "      <td>15.500000</td>\n",
       "      <td>21.920310</td>\n",
       "      <td>0</td>\n",
       "      <td>...</td>\n",
       "      <td>32</td>\n",
       "      <td>0.0</td>\n",
       "      <td>0.0</td>\n",
       "      <td>0.0</td>\n",
       "      <td>0.0</td>\n",
       "      <td>0.0</td>\n",
       "      <td>0.0</td>\n",
       "      <td>0.0</td>\n",
       "      <td>0.0</td>\n",
       "      <td>0</td>\n",
       "    </tr>\n",
       "    <tr>\n",
       "      <th>2</th>\n",
       "      <td>11626</td>\n",
       "      <td>2</td>\n",
       "      <td>0</td>\n",
       "      <td>85</td>\n",
       "      <td>0</td>\n",
       "      <td>85</td>\n",
       "      <td>0</td>\n",
       "      <td>42.500000</td>\n",
       "      <td>60.104076</td>\n",
       "      <td>0</td>\n",
       "      <td>...</td>\n",
       "      <td>32</td>\n",
       "      <td>0.0</td>\n",
       "      <td>0.0</td>\n",
       "      <td>0.0</td>\n",
       "      <td>0.0</td>\n",
       "      <td>0.0</td>\n",
       "      <td>0.0</td>\n",
       "      <td>0.0</td>\n",
       "      <td>0.0</td>\n",
       "      <td>0</td>\n",
       "    </tr>\n",
       "    <tr>\n",
       "      <th>3</th>\n",
       "      <td>16</td>\n",
       "      <td>2</td>\n",
       "      <td>0</td>\n",
       "      <td>0</td>\n",
       "      <td>0</td>\n",
       "      <td>0</td>\n",
       "      <td>0</td>\n",
       "      <td>0.000000</td>\n",
       "      <td>0.000000</td>\n",
       "      <td>0</td>\n",
       "      <td>...</td>\n",
       "      <td>32</td>\n",
       "      <td>0.0</td>\n",
       "      <td>0.0</td>\n",
       "      <td>0.0</td>\n",
       "      <td>0.0</td>\n",
       "      <td>0.0</td>\n",
       "      <td>0.0</td>\n",
       "      <td>0.0</td>\n",
       "      <td>0.0</td>\n",
       "      <td>0</td>\n",
       "    </tr>\n",
       "    <tr>\n",
       "      <th>4</th>\n",
       "      <td>37180</td>\n",
       "      <td>1</td>\n",
       "      <td>1</td>\n",
       "      <td>0</td>\n",
       "      <td>0</td>\n",
       "      <td>0</td>\n",
       "      <td>0</td>\n",
       "      <td>0.000000</td>\n",
       "      <td>0.000000</td>\n",
       "      <td>0</td>\n",
       "      <td>...</td>\n",
       "      <td>32</td>\n",
       "      <td>0.0</td>\n",
       "      <td>0.0</td>\n",
       "      <td>0.0</td>\n",
       "      <td>0.0</td>\n",
       "      <td>0.0</td>\n",
       "      <td>0.0</td>\n",
       "      <td>0.0</td>\n",
       "      <td>0.0</td>\n",
       "      <td>0</td>\n",
       "    </tr>\n",
       "  </tbody>\n",
       "</table>\n",
       "<p>5 rows × 78 columns</p>\n",
       "</div>"
      ],
      "text/plain": [
       "        0  1  2     3    4    5  6           7           8    9  ...  68   69  \\\n",
       "0  250840  6  7  1079  201  537  0  179.833333  260.004167  137  ...  32  0.0   \n",
       "1   27166  2  1    31    0   31  0   15.500000   21.920310    0  ...  32  0.0   \n",
       "2   11626  2  0    85    0   85  0   42.500000   60.104076    0  ...  32  0.0   \n",
       "3      16  2  0     0    0    0  0    0.000000    0.000000    0  ...  32  0.0   \n",
       "4   37180  1  1     0    0    0  0    0.000000    0.000000    0  ...  32  0.0   \n",
       "\n",
       "    70   71   72   73   74   75   76  label  \n",
       "0  0.0  0.0  0.0  0.0  0.0  0.0  0.0      0  \n",
       "1  0.0  0.0  0.0  0.0  0.0  0.0  0.0      0  \n",
       "2  0.0  0.0  0.0  0.0  0.0  0.0  0.0      0  \n",
       "3  0.0  0.0  0.0  0.0  0.0  0.0  0.0      0  \n",
       "4  0.0  0.0  0.0  0.0  0.0  0.0  0.0      0  \n",
       "\n",
       "[5 rows x 78 columns]"
      ]
     },
     "execution_count": 5,
     "metadata": {},
     "output_type": "execute_result"
    }
   ],
   "source": [
    "flow1.insert(77,column=\"label\",value=0)\n",
    "flow1.head()"
   ]
  },
  {
   "cell_type": "code",
   "execution_count": 6,
   "id": "6b0448e1",
   "metadata": {},
   "outputs": [
    {
     "data": {
      "text/html": [
       "<div>\n",
       "<style scoped>\n",
       "    .dataframe tbody tr th:only-of-type {\n",
       "        vertical-align: middle;\n",
       "    }\n",
       "\n",
       "    .dataframe tbody tr th {\n",
       "        vertical-align: top;\n",
       "    }\n",
       "\n",
       "    .dataframe thead th {\n",
       "        text-align: right;\n",
       "    }\n",
       "</style>\n",
       "<table border=\"1\" class=\"dataframe\">\n",
       "  <thead>\n",
       "    <tr style=\"text-align: right;\">\n",
       "      <th></th>\n",
       "      <th>0</th>\n",
       "      <th>1</th>\n",
       "      <th>2</th>\n",
       "      <th>3</th>\n",
       "      <th>4</th>\n",
       "      <th>5</th>\n",
       "      <th>6</th>\n",
       "      <th>7</th>\n",
       "      <th>8</th>\n",
       "      <th>9</th>\n",
       "      <th>...</th>\n",
       "      <th>68</th>\n",
       "      <th>69</th>\n",
       "      <th>70</th>\n",
       "      <th>71</th>\n",
       "      <th>72</th>\n",
       "      <th>73</th>\n",
       "      <th>74</th>\n",
       "      <th>75</th>\n",
       "      <th>76</th>\n",
       "      <th>label</th>\n",
       "    </tr>\n",
       "  </thead>\n",
       "  <tbody>\n",
       "    <tr>\n",
       "      <th>0</th>\n",
       "      <td>16560</td>\n",
       "      <td>2</td>\n",
       "      <td>0</td>\n",
       "      <td>85</td>\n",
       "      <td>0</td>\n",
       "      <td>85</td>\n",
       "      <td>0</td>\n",
       "      <td>42.5</td>\n",
       "      <td>60.104076</td>\n",
       "      <td>0</td>\n",
       "      <td>...</td>\n",
       "      <td>32</td>\n",
       "      <td>0.0</td>\n",
       "      <td>0.0</td>\n",
       "      <td>0</td>\n",
       "      <td>0</td>\n",
       "      <td>0.0</td>\n",
       "      <td>0.0</td>\n",
       "      <td>0.0</td>\n",
       "      <td>0.0</td>\n",
       "      <td>1</td>\n",
       "    </tr>\n",
       "    <tr>\n",
       "      <th>1</th>\n",
       "      <td>156</td>\n",
       "      <td>2</td>\n",
       "      <td>0</td>\n",
       "      <td>0</td>\n",
       "      <td>0</td>\n",
       "      <td>0</td>\n",
       "      <td>0</td>\n",
       "      <td>0.0</td>\n",
       "      <td>0.000000</td>\n",
       "      <td>0</td>\n",
       "      <td>...</td>\n",
       "      <td>32</td>\n",
       "      <td>0.0</td>\n",
       "      <td>0.0</td>\n",
       "      <td>0</td>\n",
       "      <td>0</td>\n",
       "      <td>0.0</td>\n",
       "      <td>0.0</td>\n",
       "      <td>0.0</td>\n",
       "      <td>0.0</td>\n",
       "      <td>1</td>\n",
       "    </tr>\n",
       "    <tr>\n",
       "      <th>2</th>\n",
       "      <td>37181</td>\n",
       "      <td>1</td>\n",
       "      <td>1</td>\n",
       "      <td>0</td>\n",
       "      <td>0</td>\n",
       "      <td>0</td>\n",
       "      <td>0</td>\n",
       "      <td>0.0</td>\n",
       "      <td>0.000000</td>\n",
       "      <td>0</td>\n",
       "      <td>...</td>\n",
       "      <td>32</td>\n",
       "      <td>0.0</td>\n",
       "      <td>0.0</td>\n",
       "      <td>0</td>\n",
       "      <td>0</td>\n",
       "      <td>0.0</td>\n",
       "      <td>0.0</td>\n",
       "      <td>0.0</td>\n",
       "      <td>0.0</td>\n",
       "      <td>1</td>\n",
       "    </tr>\n",
       "    <tr>\n",
       "      <th>3</th>\n",
       "      <td>2496023</td>\n",
       "      <td>1</td>\n",
       "      <td>3</td>\n",
       "      <td>31</td>\n",
       "      <td>31</td>\n",
       "      <td>31</td>\n",
       "      <td>31</td>\n",
       "      <td>31.0</td>\n",
       "      <td>0.000000</td>\n",
       "      <td>31</td>\n",
       "      <td>...</td>\n",
       "      <td>32</td>\n",
       "      <td>0.0</td>\n",
       "      <td>0.0</td>\n",
       "      <td>0</td>\n",
       "      <td>0</td>\n",
       "      <td>0.0</td>\n",
       "      <td>0.0</td>\n",
       "      <td>0.0</td>\n",
       "      <td>0.0</td>\n",
       "      <td>1</td>\n",
       "    </tr>\n",
       "    <tr>\n",
       "      <th>4</th>\n",
       "      <td>52</td>\n",
       "      <td>2</td>\n",
       "      <td>0</td>\n",
       "      <td>0</td>\n",
       "      <td>0</td>\n",
       "      <td>0</td>\n",
       "      <td>0</td>\n",
       "      <td>0.0</td>\n",
       "      <td>0.000000</td>\n",
       "      <td>0</td>\n",
       "      <td>...</td>\n",
       "      <td>32</td>\n",
       "      <td>0.0</td>\n",
       "      <td>0.0</td>\n",
       "      <td>0</td>\n",
       "      <td>0</td>\n",
       "      <td>0.0</td>\n",
       "      <td>0.0</td>\n",
       "      <td>0.0</td>\n",
       "      <td>0.0</td>\n",
       "      <td>1</td>\n",
       "    </tr>\n",
       "  </tbody>\n",
       "</table>\n",
       "<p>5 rows × 78 columns</p>\n",
       "</div>"
      ],
      "text/plain": [
       "         0  1  2   3   4   5   6     7          8   9  ...  68   69   70  71  \\\n",
       "0    16560  2  0  85   0  85   0  42.5  60.104076   0  ...  32  0.0  0.0   0   \n",
       "1      156  2  0   0   0   0   0   0.0   0.000000   0  ...  32  0.0  0.0   0   \n",
       "2    37181  1  1   0   0   0   0   0.0   0.000000   0  ...  32  0.0  0.0   0   \n",
       "3  2496023  1  3  31  31  31  31  31.0   0.000000  31  ...  32  0.0  0.0   0   \n",
       "4       52  2  0   0   0   0   0   0.0   0.000000   0  ...  32  0.0  0.0   0   \n",
       "\n",
       "   72   73   74   75   76  label  \n",
       "0   0  0.0  0.0  0.0  0.0      1  \n",
       "1   0  0.0  0.0  0.0  0.0      1  \n",
       "2   0  0.0  0.0  0.0  0.0      1  \n",
       "3   0  0.0  0.0  0.0  0.0      1  \n",
       "4   0  0.0  0.0  0.0  0.0      1  \n",
       "\n",
       "[5 rows x 78 columns]"
      ]
     },
     "execution_count": 6,
     "metadata": {},
     "output_type": "execute_result"
    }
   ],
   "source": [
    "flow2.insert(77,column='label',value=1)\n",
    "flow2.head()"
   ]
  },
  {
   "cell_type": "code",
   "execution_count": 7,
   "id": "9c22d8ff",
   "metadata": {},
   "outputs": [
    {
     "name": "stdout",
     "output_type": "stream",
     "text": [
      "(5229, 78)\n"
     ]
    },
    {
     "data": {
      "text/plain": [
       "0        0\n",
       "1        0\n",
       "2        0\n",
       "3        0\n",
       "4        0\n",
       "        ..\n",
       "73       0\n",
       "74       0\n",
       "75       0\n",
       "76       0\n",
       "label    0\n",
       "Length: 78, dtype: int64"
      ]
     },
     "execution_count": 7,
     "metadata": {},
     "output_type": "execute_result"
    }
   ],
   "source": [
    "data = flow1.append(flow2,ignore_index=True)\n",
    "print(data.shape)\n",
    "data.isna().sum()"
   ]
  },
  {
   "cell_type": "code",
   "execution_count": 8,
   "id": "d6f98c3e",
   "metadata": {},
   "outputs": [
    {
     "name": "stdout",
     "output_type": "stream",
     "text": [
      "[0 0 0 ... 1 1 1]\n"
     ]
    }
   ],
   "source": [
    "y_data = data['label']\n",
    "y_data = np.array(y_data)\n",
    "print(y_data)"
   ]
  },
  {
   "cell_type": "code",
   "execution_count": 9,
   "id": "9bcee316",
   "metadata": {},
   "outputs": [
    {
     "data": {
      "text/plain": [
       "array([[2.5084000e+05, 6.0000000e+00, 7.0000000e+00, ..., 0.0000000e+00,\n",
       "        0.0000000e+00, 0.0000000e+00],\n",
       "       [2.7166000e+04, 2.0000000e+00, 1.0000000e+00, ..., 0.0000000e+00,\n",
       "        0.0000000e+00, 0.0000000e+00],\n",
       "       [1.1626000e+04, 2.0000000e+00, 0.0000000e+00, ..., 0.0000000e+00,\n",
       "        0.0000000e+00, 0.0000000e+00],\n",
       "       ...,\n",
       "       [5.1568000e+04, 1.0000000e+00, 1.0000000e+00, ..., 0.0000000e+00,\n",
       "        0.0000000e+00, 0.0000000e+00],\n",
       "       [1.0532248e+07, 9.0000000e+00, 5.0000000e+00, ..., 0.0000000e+00,\n",
       "        1.0300000e+07, 1.0300000e+07],\n",
       "       [2.2529000e+04, 1.0000000e+00, 1.0000000e+00, ..., 0.0000000e+00,\n",
       "        0.0000000e+00, 0.0000000e+00]])"
      ]
     },
     "execution_count": 9,
     "metadata": {},
     "output_type": "execute_result"
    }
   ],
   "source": [
    "x_data = data.drop(columns=['label'])\n",
    "x_data = np.array(x_data)\n",
    "x_data"
   ]
  },
  {
   "cell_type": "code",
   "execution_count": 10,
   "id": "c2e2047e",
   "metadata": {},
   "outputs": [],
   "source": [
    "from sklearn.model_selection import train_test_split\n",
    "X_train, X_test, y_train, y_test = train_test_split(x_data, y_data, test_size=0.2, random_state=666)"
   ]
  },
  {
   "cell_type": "code",
   "execution_count": 11,
   "id": "e650bca5",
   "metadata": {},
   "outputs": [],
   "source": [
    "#one-hot encoding\n",
    "Y_train = to_categorical(y_train) \n",
    "Y_test = to_categorical(y_test)"
   ]
  },
  {
   "cell_type": "markdown",
   "id": "061cf05a",
   "metadata": {},
   "source": [
    "## 模型"
   ]
  },
  {
   "cell_type": "code",
   "execution_count": 12,
   "id": "4182f5c2",
   "metadata": {},
   "outputs": [
    {
     "name": "stderr",
     "output_type": "stream",
     "text": [
      "\u001b[34m\u001b[1mwandb\u001b[0m: Currently logged in as: \u001b[33mnightlighttw\u001b[0m. Use \u001b[1m`wandb login --relogin`\u001b[0m to force relogin\n"
     ]
    },
    {
     "data": {
      "text/html": [
       "Tracking run with wandb version 0.13.5"
      ],
      "text/plain": [
       "<IPython.core.display.HTML object>"
      ]
     },
     "metadata": {},
     "output_type": "display_data"
    },
    {
     "data": {
      "text/html": [
       "Run data is saved locally in <code>C:\\Users\\zizhong\\Documents\\A1\\兩類流量\\wandb\\run-20221120_155749-1b3ub2x7</code>"
      ],
      "text/plain": [
       "<IPython.core.display.HTML object>"
      ]
     },
     "metadata": {},
     "output_type": "display_data"
    },
    {
     "data": {
      "text/html": [
       "Syncing run <strong><a href=\"https://wandb.ai/nightlighttw/uncategorized/runs/1b3ub2x7\" target=\"_blank\">major-galaxy-196</a></strong> to <a href=\"https://wandb.ai/nightlighttw/uncategorized\" target=\"_blank\">Weights & Biases</a> (<a href=\"https://wandb.me/run\" target=\"_blank\">docs</a>)<br/>"
      ],
      "text/plain": [
       "<IPython.core.display.HTML object>"
      ]
     },
     "metadata": {},
     "output_type": "display_data"
    }
   ],
   "source": [
    "#best model根據BAYE result\n",
    "Epoch = 100\n",
    "batch_size = 32\n",
    "defaults = dict(\n",
    "    dropout=0.1,\n",
    "    hidden_layer_size=64,\n",
    "    layer_1_size=128,\n",
    "    layer_2_size=32,\n",
    "    learn_rate=0.3,\n",
    "    epochs=Epoch,\n",
    "    batch_size = batch_size\n",
    "    )\n",
    "\n",
    "resume = sys.argv[-1] == \"--resume\"\n",
    "wandb.init(config=defaults, resume=resume, entity=\"nightlighttw\")\n",
    "config = wandb.config\n",
    "num_classes = Y_test.shape[1]\n",
    "\n",
    "sgd = SGD(lr=config.learn_rate,nesterov=True)"
   ]
  },
  {
   "cell_type": "code",
   "execution_count": 13,
   "id": "5bb42429",
   "metadata": {},
   "outputs": [
    {
     "name": "stdout",
     "output_type": "stream",
     "text": [
      "Model: \"sequential\"\n",
      "_________________________________________________________________\n",
      "Layer (type)                 Output Shape              Param #   \n",
      "=================================================================\n",
      "dense (Dense)                (None, 128)               9984      \n",
      "_________________________________________________________________\n",
      "dense_1 (Dense)              (None, 64)                8256      \n",
      "_________________________________________________________________\n",
      "batch_normalization (BatchNo (None, 64)                256       \n",
      "_________________________________________________________________\n",
      "dropout (Dropout)            (None, 64)                0         \n",
      "_________________________________________________________________\n",
      "dense_2 (Dense)              (None, 64)                4160      \n",
      "_________________________________________________________________\n",
      "batch_normalization_1 (Batch (None, 64)                256       \n",
      "_________________________________________________________________\n",
      "dense_3 (Dense)              (None, 32)                2080      \n",
      "_________________________________________________________________\n",
      "dropout_1 (Dropout)          (None, 32)                0         \n",
      "_________________________________________________________________\n",
      "batch_normalization_2 (Batch (None, 32)                128       \n",
      "_________________________________________________________________\n",
      "dense_4 (Dense)              (None, 2)                 66        \n",
      "=================================================================\n",
      "Total params: 25,186\n",
      "Trainable params: 24,866\n",
      "Non-trainable params: 320\n",
      "_________________________________________________________________\n"
     ]
    }
   ],
   "source": [
    "if wandb.run.resumed:\n",
    "    print(\"RESUMING\")\n",
    "    # restore the best model\n",
    "    model = load_model(wandb.restore(\"model-best.h5\").name)\n",
    "else:\n",
    "    model = Sequential()\n",
    "    model.add(Dense(config.layer_1_size, input_shape=(77,), activation=\"relu\"))\n",
    "    model.add(Dense(config.hidden_layer_size, activation=\"relu\"))\n",
    "    model.add(BatchNormalization())\n",
    "    model.add(Dropout(config.dropout))\n",
    "    model.add(Dense(config.hidden_layer_size, activation=\"relu\"))\n",
    "    model.add(BatchNormalization())\n",
    "    model.add(Dense(config.layer_2_size, activation=\"relu\"))\n",
    "    model.add(Dropout(config.dropout))\n",
    "    model.add(BatchNormalization())\n",
    "    model.add(Dense(num_classes, activation=\"softmax\"))\n",
    "    model.summary() \n",
    "    model.compile(loss='categorical_crossentropy', optimizer=sgd, metrics=['accuracy'])"
   ]
  },
  {
   "cell_type": "code",
   "execution_count": 14,
   "id": "6199368f",
   "metadata": {},
   "outputs": [
    {
     "name": "stderr",
     "output_type": "stream",
     "text": [
      "\u001b[34m\u001b[1mwandb\u001b[0m: \u001b[33mWARNING\u001b[0m The save_model argument by default saves the model in the HDF5 format that cannot save custom objects like subclassed models and custom layers. This behavior will be deprecated in a future release in favor of the SavedModel format. Meanwhile, the HDF5 model is saved as W&B files and the SavedModel as W&B Artifacts.\n"
     ]
    },
    {
     "name": "stdout",
     "output_type": "stream",
     "text": [
      "Epoch 1/100\n",
      "131/131 [==============================] - 2s 8ms/step - loss: 0.8001 - accuracy: 0.5008 - val_loss: 0.8116 - val_accuracy: 0.4971\n",
      "INFO:tensorflow:Assets written to: C:\\Users\\zizhong\\Documents\\A1\\兩類流量\\wandb\\run-20221120_155749-1b3ub2x7\\files\\model-best\\assets\n"
     ]
    },
    {
     "name": "stderr",
     "output_type": "stream",
     "text": [
      "\u001b[34m\u001b[1mwandb\u001b[0m: Adding directory to artifact (C:\\Users\\zizhong\\Documents\\A1\\兩類流量\\wandb\\run-20221120_155749-1b3ub2x7\\files\\model-best)... Done. 0.1s\n"
     ]
    },
    {
     "name": "stdout",
     "output_type": "stream",
     "text": [
      "Epoch 2/100\n",
      "131/131 [==============================] - 1s 5ms/step - loss: 0.7240 - accuracy: 0.5166 - val_loss: 0.7168 - val_accuracy: 0.5315\n",
      "INFO:tensorflow:Assets written to: C:\\Users\\zizhong\\Documents\\A1\\兩類流量\\wandb\\run-20221120_155749-1b3ub2x7\\files\\model-best\\assets\n"
     ]
    },
    {
     "name": "stderr",
     "output_type": "stream",
     "text": [
      "\u001b[34m\u001b[1mwandb\u001b[0m: Adding directory to artifact (C:\\Users\\zizhong\\Documents\\A1\\兩類流量\\wandb\\run-20221120_155749-1b3ub2x7\\files\\model-best)... Done. 0.1s\n"
     ]
    },
    {
     "name": "stdout",
     "output_type": "stream",
     "text": [
      "Epoch 3/100\n",
      "131/131 [==============================] - 1s 5ms/step - loss: 0.7208 - accuracy: 0.5174 - val_loss: 0.7103 - val_accuracy: 0.4914\n",
      "INFO:tensorflow:Assets written to: C:\\Users\\zizhong\\Documents\\A1\\兩類流量\\wandb\\run-20221120_155749-1b3ub2x7\\files\\model-best\\assets\n"
     ]
    },
    {
     "name": "stderr",
     "output_type": "stream",
     "text": [
      "\u001b[34m\u001b[1mwandb\u001b[0m: Adding directory to artifact (C:\\Users\\zizhong\\Documents\\A1\\兩類流量\\wandb\\run-20221120_155749-1b3ub2x7\\files\\model-best)... Done. 0.1s\n"
     ]
    },
    {
     "name": "stdout",
     "output_type": "stream",
     "text": [
      "Epoch 4/100\n",
      "131/131 [==============================] - 1s 5ms/step - loss: 0.7125 - accuracy: 0.5111 - val_loss: 0.7087 - val_accuracy: 0.5143\n",
      "INFO:tensorflow:Assets written to: C:\\Users\\zizhong\\Documents\\A1\\兩類流量\\wandb\\run-20221120_155749-1b3ub2x7\\files\\model-best\\assets\n"
     ]
    },
    {
     "name": "stderr",
     "output_type": "stream",
     "text": [
      "\u001b[34m\u001b[1mwandb\u001b[0m: Adding directory to artifact (C:\\Users\\zizhong\\Documents\\A1\\兩類流量\\wandb\\run-20221120_155749-1b3ub2x7\\files\\model-best)... Done. 0.1s\n"
     ]
    },
    {
     "name": "stdout",
     "output_type": "stream",
     "text": [
      "Epoch 5/100\n",
      "131/131 [==============================] - 1s 5ms/step - loss: 0.7096 - accuracy: 0.5067 - val_loss: 0.7139 - val_accuracy: 0.5220\n",
      "Epoch 6/100\n",
      "131/131 [==============================] - 1s 5ms/step - loss: 0.7010 - accuracy: 0.5290 - val_loss: 0.6943 - val_accuracy: 0.5325\n",
      "INFO:tensorflow:Assets written to: C:\\Users\\zizhong\\Documents\\A1\\兩類流量\\wandb\\run-20221120_155749-1b3ub2x7\\files\\model-best\\assets\n"
     ]
    },
    {
     "name": "stderr",
     "output_type": "stream",
     "text": [
      "\u001b[34m\u001b[1mwandb\u001b[0m: Adding directory to artifact (C:\\Users\\zizhong\\Documents\\A1\\兩類流量\\wandb\\run-20221120_155749-1b3ub2x7\\files\\model-best)... Done. 0.1s\n"
     ]
    },
    {
     "name": "stdout",
     "output_type": "stream",
     "text": [
      "Epoch 7/100\n",
      "131/131 [==============================] - 1s 6ms/step - loss: 0.6980 - accuracy: 0.5249 - val_loss: 0.6969 - val_accuracy: 0.5163\n",
      "Epoch 8/100\n",
      "131/131 [==============================] - 1s 5ms/step - loss: 0.7015 - accuracy: 0.5107 - val_loss: 0.7086 - val_accuracy: 0.5191\n",
      "Epoch 9/100\n",
      "131/131 [==============================] - 1s 5ms/step - loss: 0.7022 - accuracy: 0.5227 - val_loss: 0.6925 - val_accuracy: 0.5000\n",
      "INFO:tensorflow:Assets written to: C:\\Users\\zizhong\\Documents\\A1\\兩類流量\\wandb\\run-20221120_155749-1b3ub2x7\\files\\model-best\\assets\n"
     ]
    },
    {
     "name": "stderr",
     "output_type": "stream",
     "text": [
      "\u001b[34m\u001b[1mwandb\u001b[0m: Adding directory to artifact (C:\\Users\\zizhong\\Documents\\A1\\兩類流量\\wandb\\run-20221120_155749-1b3ub2x7\\files\\model-best)... Done. 0.1s\n"
     ]
    },
    {
     "name": "stdout",
     "output_type": "stream",
     "text": [
      "Epoch 10/100\n",
      "131/131 [==============================] - 1s 6ms/step - loss: 0.6972 - accuracy: 0.5124 - val_loss: 0.6965 - val_accuracy: 0.5354\n",
      "Epoch 11/100\n",
      "131/131 [==============================] - 1s 5ms/step - loss: 0.6945 - accuracy: 0.5311 - val_loss: 0.6934 - val_accuracy: 0.5325\n",
      "Epoch 12/100\n",
      "131/131 [==============================] - 1s 5ms/step - loss: 0.6928 - accuracy: 0.5171 - val_loss: 0.6937 - val_accuracy: 0.5019\n",
      "Epoch 13/100\n",
      "131/131 [==============================] - 1s 5ms/step - loss: 0.6937 - accuracy: 0.5207 - val_loss: 0.7064 - val_accuracy: 0.5258\n",
      "Epoch 14/100\n",
      "131/131 [==============================] - 1s 5ms/step - loss: 0.6939 - accuracy: 0.5396 - val_loss: 0.6997 - val_accuracy: 0.5000\n",
      "Epoch 15/100\n",
      "131/131 [==============================] - 1s 5ms/step - loss: 0.6905 - accuracy: 0.5447 - val_loss: 0.6903 - val_accuracy: 0.5344\n",
      "INFO:tensorflow:Assets written to: C:\\Users\\zizhong\\Documents\\A1\\兩類流量\\wandb\\run-20221120_155749-1b3ub2x7\\files\\model-best\\assets\n"
     ]
    },
    {
     "name": "stderr",
     "output_type": "stream",
     "text": [
      "\u001b[34m\u001b[1mwandb\u001b[0m: Adding directory to artifact (C:\\Users\\zizhong\\Documents\\A1\\兩類流量\\wandb\\run-20221120_155749-1b3ub2x7\\files\\model-best)... Done. 0.1s\n"
     ]
    },
    {
     "name": "stdout",
     "output_type": "stream",
     "text": [
      "Epoch 16/100\n",
      "131/131 [==============================] - 1s 6ms/step - loss: 0.6898 - accuracy: 0.5365 - val_loss: 0.6927 - val_accuracy: 0.5038\n",
      "Epoch 17/100\n",
      "131/131 [==============================] - 1s 5ms/step - loss: 0.6894 - accuracy: 0.5364 - val_loss: 0.6926 - val_accuracy: 0.5411\n",
      "Epoch 18/100\n",
      "131/131 [==============================] - 1s 5ms/step - loss: 0.6920 - accuracy: 0.5318 - val_loss: 0.6908 - val_accuracy: 0.5382\n",
      "Epoch 19/100\n",
      "131/131 [==============================] - 1s 5ms/step - loss: 0.6882 - accuracy: 0.5423 - val_loss: 0.6900 - val_accuracy: 0.5315\n",
      "INFO:tensorflow:Assets written to: C:\\Users\\zizhong\\Documents\\A1\\兩類流量\\wandb\\run-20221120_155749-1b3ub2x7\\files\\model-best\\assets\n"
     ]
    },
    {
     "name": "stderr",
     "output_type": "stream",
     "text": [
      "\u001b[34m\u001b[1mwandb\u001b[0m: Adding directory to artifact (C:\\Users\\zizhong\\Documents\\A1\\兩類流量\\wandb\\run-20221120_155749-1b3ub2x7\\files\\model-best)... Done. 0.1s\n"
     ]
    },
    {
     "name": "stdout",
     "output_type": "stream",
     "text": [
      "Epoch 20/100\n",
      "131/131 [==============================] - 1s 5ms/step - loss: 0.6912 - accuracy: 0.5315 - val_loss: 0.7005 - val_accuracy: 0.5220\n",
      "Epoch 21/100\n",
      "131/131 [==============================] - 1s 5ms/step - loss: 0.6917 - accuracy: 0.5201 - val_loss: 0.6913 - val_accuracy: 0.5296\n",
      "Epoch 22/100\n",
      "131/131 [==============================] - 1s 5ms/step - loss: 0.6898 - accuracy: 0.5462 - val_loss: 0.6934 - val_accuracy: 0.5315\n",
      "Epoch 23/100\n",
      "131/131 [==============================] - 1s 5ms/step - loss: 0.6886 - accuracy: 0.5380 - val_loss: 0.6907 - val_accuracy: 0.5086\n",
      "Epoch 24/100\n",
      "131/131 [==============================] - 1s 5ms/step - loss: 0.6903 - accuracy: 0.5229 - val_loss: 0.6912 - val_accuracy: 0.5306\n",
      "Epoch 25/100\n",
      "131/131 [==============================] - 1s 5ms/step - loss: 0.6889 - accuracy: 0.5432 - val_loss: 0.6928 - val_accuracy: 0.5277\n",
      "Epoch 26/100\n",
      "131/131 [==============================] - 1s 5ms/step - loss: 0.6934 - accuracy: 0.4961 - val_loss: 0.6936 - val_accuracy: 0.5220\n",
      "Epoch 27/100\n",
      "131/131 [==============================] - 1s 5ms/step - loss: 0.6884 - accuracy: 0.5425 - val_loss: 0.6913 - val_accuracy: 0.5354\n",
      "Epoch 28/100\n",
      "131/131 [==============================] - 1s 5ms/step - loss: 0.6916 - accuracy: 0.5312 - val_loss: 0.6925 - val_accuracy: 0.5229\n",
      "Epoch 29/100\n",
      "131/131 [==============================] - 1s 5ms/step - loss: 0.6934 - accuracy: 0.5175 - val_loss: 0.6894 - val_accuracy: 0.5382\n",
      "INFO:tensorflow:Assets written to: C:\\Users\\zizhong\\Documents\\A1\\兩類流量\\wandb\\run-20221120_155749-1b3ub2x7\\files\\model-best\\assets\n"
     ]
    },
    {
     "name": "stderr",
     "output_type": "stream",
     "text": [
      "\u001b[34m\u001b[1mwandb\u001b[0m: Adding directory to artifact (C:\\Users\\zizhong\\Documents\\A1\\兩類流量\\wandb\\run-20221120_155749-1b3ub2x7\\files\\model-best)... Done. 0.1s\n"
     ]
    },
    {
     "name": "stdout",
     "output_type": "stream",
     "text": [
      "Epoch 30/100\n",
      "131/131 [==============================] - 1s 6ms/step - loss: 0.6866 - accuracy: 0.5472 - val_loss: 0.6884 - val_accuracy: 0.5344\n",
      "INFO:tensorflow:Assets written to: C:\\Users\\zizhong\\Documents\\A1\\兩類流量\\wandb\\run-20221120_155749-1b3ub2x7\\files\\model-best\\assets\n"
     ]
    },
    {
     "name": "stderr",
     "output_type": "stream",
     "text": [
      "\u001b[34m\u001b[1mwandb\u001b[0m: Adding directory to artifact (C:\\Users\\zizhong\\Documents\\A1\\兩類流量\\wandb\\run-20221120_155749-1b3ub2x7\\files\\model-best)... Done. 0.1s\n"
     ]
    },
    {
     "name": "stdout",
     "output_type": "stream",
     "text": [
      "Epoch 31/100\n",
      "131/131 [==============================] - 1s 6ms/step - loss: 0.6900 - accuracy: 0.5339 - val_loss: 0.6886 - val_accuracy: 0.5440\n",
      "Epoch 32/100\n",
      "131/131 [==============================] - 1s 5ms/step - loss: 0.6895 - accuracy: 0.5306 - val_loss: 0.6923 - val_accuracy: 0.5229\n",
      "Epoch 33/100\n",
      "131/131 [==============================] - 1s 5ms/step - loss: 0.6890 - accuracy: 0.5368 - val_loss: 0.6907 - val_accuracy: 0.5306\n",
      "Epoch 34/100\n",
      "131/131 [==============================] - 1s 5ms/step - loss: 0.6890 - accuracy: 0.5410 - val_loss: 0.6898 - val_accuracy: 0.5086\n",
      "Epoch 35/100\n",
      "131/131 [==============================] - 1s 5ms/step - loss: 0.6910 - accuracy: 0.5314 - val_loss: 0.6938 - val_accuracy: 0.5076\n",
      "Epoch 36/100\n",
      "131/131 [==============================] - 1s 5ms/step - loss: 0.6921 - accuracy: 0.5249 - val_loss: 0.6980 - val_accuracy: 0.5268\n",
      "Epoch 37/100\n",
      "131/131 [==============================] - 1s 5ms/step - loss: 0.6917 - accuracy: 0.5422 - val_loss: 0.6935 - val_accuracy: 0.5287\n",
      "Epoch 38/100\n",
      "131/131 [==============================] - 1s 5ms/step - loss: 0.6887 - accuracy: 0.5326 - val_loss: 0.6881 - val_accuracy: 0.5382\n",
      "INFO:tensorflow:Assets written to: C:\\Users\\zizhong\\Documents\\A1\\兩類流量\\wandb\\run-20221120_155749-1b3ub2x7\\files\\model-best\\assets\n"
     ]
    },
    {
     "name": "stderr",
     "output_type": "stream",
     "text": [
      "\u001b[34m\u001b[1mwandb\u001b[0m: Adding directory to artifact (C:\\Users\\zizhong\\Documents\\A1\\兩類流量\\wandb\\run-20221120_155749-1b3ub2x7\\files\\model-best)... Done. 0.1s\n"
     ]
    },
    {
     "name": "stdout",
     "output_type": "stream",
     "text": [
      "Epoch 39/100\n",
      "131/131 [==============================] - 1s 5ms/step - loss: 0.6848 - accuracy: 0.5407 - val_loss: 0.6901 - val_accuracy: 0.5306\n",
      "Epoch 40/100\n",
      "131/131 [==============================] - 1s 5ms/step - loss: 0.6875 - accuracy: 0.5482 - val_loss: 0.6950 - val_accuracy: 0.5335\n",
      "Epoch 41/100\n",
      "131/131 [==============================] - 1s 5ms/step - loss: 0.6864 - accuracy: 0.5531 - val_loss: 0.6901 - val_accuracy: 0.5402\n",
      "Epoch 42/100\n",
      "131/131 [==============================] - 1s 5ms/step - loss: 0.6868 - accuracy: 0.5339 - val_loss: 0.6907 - val_accuracy: 0.5296\n",
      "Epoch 43/100\n",
      "131/131 [==============================] - 1s 5ms/step - loss: 0.6901 - accuracy: 0.5402 - val_loss: 0.6912 - val_accuracy: 0.5296\n",
      "Epoch 44/100\n",
      "131/131 [==============================] - 1s 5ms/step - loss: 0.6874 - accuracy: 0.5258 - val_loss: 0.6956 - val_accuracy: 0.5172\n",
      "Epoch 45/100\n",
      "131/131 [==============================] - 1s 5ms/step - loss: 0.6878 - accuracy: 0.5395 - val_loss: 0.7022 - val_accuracy: 0.5201\n",
      "Epoch 46/100\n",
      "131/131 [==============================] - 1s 5ms/step - loss: 0.6892 - accuracy: 0.5359 - val_loss: 0.6930 - val_accuracy: 0.5363\n",
      "Epoch 47/100\n",
      "131/131 [==============================] - 1s 5ms/step - loss: 0.6886 - accuracy: 0.5519 - val_loss: 0.6885 - val_accuracy: 0.5430\n",
      "Epoch 48/100\n",
      "131/131 [==============================] - 1s 5ms/step - loss: 0.6898 - accuracy: 0.5350 - val_loss: 0.6867 - val_accuracy: 0.5382\n",
      "INFO:tensorflow:Assets written to: C:\\Users\\zizhong\\Documents\\A1\\兩類流量\\wandb\\run-20221120_155749-1b3ub2x7\\files\\model-best\\assets\n"
     ]
    },
    {
     "name": "stderr",
     "output_type": "stream",
     "text": [
      "\u001b[34m\u001b[1mwandb\u001b[0m: Adding directory to artifact (C:\\Users\\zizhong\\Documents\\A1\\兩類流量\\wandb\\run-20221120_155749-1b3ub2x7\\files\\model-best)... Done. 0.1s\n"
     ]
    },
    {
     "name": "stdout",
     "output_type": "stream",
     "text": [
      "Epoch 49/100\n",
      "131/131 [==============================] - 1s 5ms/step - loss: 0.6873 - accuracy: 0.5388 - val_loss: 0.6906 - val_accuracy: 0.5315\n",
      "Epoch 50/100\n",
      "131/131 [==============================] - 1s 5ms/step - loss: 0.6894 - accuracy: 0.5276 - val_loss: 0.6872 - val_accuracy: 0.5459\n",
      "Epoch 51/100\n",
      "131/131 [==============================] - 1s 5ms/step - loss: 0.6894 - accuracy: 0.5357 - val_loss: 0.6917 - val_accuracy: 0.5344\n",
      "Epoch 52/100\n",
      "131/131 [==============================] - 1s 5ms/step - loss: 0.6910 - accuracy: 0.5464 - val_loss: 0.6888 - val_accuracy: 0.5421\n",
      "Epoch 53/100\n",
      "131/131 [==============================] - 1s 5ms/step - loss: 0.6895 - accuracy: 0.5351 - val_loss: 0.6882 - val_accuracy: 0.5421\n",
      "Epoch 54/100\n",
      "131/131 [==============================] - 1s 5ms/step - loss: 0.6900 - accuracy: 0.5356 - val_loss: 0.6888 - val_accuracy: 0.5306\n",
      "Epoch 55/100\n",
      "131/131 [==============================] - 1s 5ms/step - loss: 0.6892 - accuracy: 0.5259 - val_loss: 0.7007 - val_accuracy: 0.5076\n",
      "Epoch 56/100\n",
      "131/131 [==============================] - 1s 5ms/step - loss: 0.6856 - accuracy: 0.5432 - val_loss: 0.6934 - val_accuracy: 0.5392\n",
      "Epoch 57/100\n",
      "131/131 [==============================] - 1s 5ms/step - loss: 0.6894 - accuracy: 0.5450 - val_loss: 0.6875 - val_accuracy: 0.5373\n",
      "Epoch 58/100\n",
      "131/131 [==============================] - 1s 5ms/step - loss: 0.6899 - accuracy: 0.5418 - val_loss: 0.6886 - val_accuracy: 0.5335\n",
      "Epoch 59/100\n",
      "131/131 [==============================] - 1s 5ms/step - loss: 0.6851 - accuracy: 0.5521 - val_loss: 0.6926 - val_accuracy: 0.5029\n",
      "Epoch 60/100\n",
      "131/131 [==============================] - 1s 5ms/step - loss: 0.6877 - accuracy: 0.5338 - val_loss: 0.6862 - val_accuracy: 0.5430\n",
      "INFO:tensorflow:Assets written to: C:\\Users\\zizhong\\Documents\\A1\\兩類流量\\wandb\\run-20221120_155749-1b3ub2x7\\files\\model-best\\assets\n"
     ]
    },
    {
     "name": "stderr",
     "output_type": "stream",
     "text": [
      "\u001b[34m\u001b[1mwandb\u001b[0m: Adding directory to artifact (C:\\Users\\zizhong\\Documents\\A1\\兩類流量\\wandb\\run-20221120_155749-1b3ub2x7\\files\\model-best)... Done. 0.1s\n"
     ]
    },
    {
     "name": "stdout",
     "output_type": "stream",
     "text": [
      "Epoch 61/100\n",
      "131/131 [==============================] - 1s 5ms/step - loss: 0.6856 - accuracy: 0.5586 - val_loss: 0.6882 - val_accuracy: 0.5335\n",
      "Epoch 62/100\n",
      "131/131 [==============================] - 1s 5ms/step - loss: 0.6866 - accuracy: 0.5402 - val_loss: 0.6910 - val_accuracy: 0.5402\n",
      "Epoch 63/100\n",
      "131/131 [==============================] - 1s 5ms/step - loss: 0.6871 - accuracy: 0.5397 - val_loss: 0.6869 - val_accuracy: 0.5354\n",
      "Epoch 64/100\n",
      "131/131 [==============================] - 1s 5ms/step - loss: 0.6891 - accuracy: 0.5336 - val_loss: 0.6917 - val_accuracy: 0.5076\n",
      "Epoch 65/100\n",
      "131/131 [==============================] - 1s 5ms/step - loss: 0.6891 - accuracy: 0.5335 - val_loss: 0.6970 - val_accuracy: 0.4990\n",
      "Epoch 66/100\n",
      "131/131 [==============================] - 1s 5ms/step - loss: 0.6887 - accuracy: 0.5298 - val_loss: 0.6874 - val_accuracy: 0.5430\n",
      "Epoch 67/100\n",
      "131/131 [==============================] - 1s 5ms/step - loss: 0.6848 - accuracy: 0.5528 - val_loss: 0.6863 - val_accuracy: 0.5382\n",
      "Epoch 68/100\n",
      "131/131 [==============================] - 1s 5ms/step - loss: 0.6884 - accuracy: 0.5484 - val_loss: 0.6903 - val_accuracy: 0.5048\n",
      "Epoch 69/100\n",
      "131/131 [==============================] - 1s 5ms/step - loss: 0.6884 - accuracy: 0.5386 - val_loss: 0.6878 - val_accuracy: 0.5373\n",
      "Epoch 70/100\n",
      "131/131 [==============================] - 1s 5ms/step - loss: 0.6905 - accuracy: 0.5304 - val_loss: 0.6880 - val_accuracy: 0.5268\n",
      "Epoch 71/100\n",
      "131/131 [==============================] - 1s 5ms/step - loss: 0.6889 - accuracy: 0.5374 - val_loss: 0.6950 - val_accuracy: 0.5220\n",
      "Epoch 72/100\n",
      "131/131 [==============================] - 1s 5ms/step - loss: 0.6866 - accuracy: 0.5497 - val_loss: 0.6884 - val_accuracy: 0.5335\n",
      "Epoch 73/100\n",
      "131/131 [==============================] - 1s 5ms/step - loss: 0.6886 - accuracy: 0.5242 - val_loss: 0.6886 - val_accuracy: 0.5296\n",
      "Epoch 74/100\n",
      "131/131 [==============================] - 1s 5ms/step - loss: 0.6904 - accuracy: 0.5326 - val_loss: 0.6911 - val_accuracy: 0.5449\n",
      "Epoch 75/100\n",
      "131/131 [==============================] - 1s 5ms/step - loss: 0.6880 - accuracy: 0.5537 - val_loss: 0.6962 - val_accuracy: 0.5497\n",
      "Epoch 76/100\n",
      "131/131 [==============================] - 1s 5ms/step - loss: 0.6841 - accuracy: 0.5517 - val_loss: 0.7085 - val_accuracy: 0.5057\n",
      "Epoch 77/100\n",
      "131/131 [==============================] - 1s 5ms/step - loss: 0.6848 - accuracy: 0.5400 - val_loss: 0.7339 - val_accuracy: 0.5335\n",
      "Epoch 78/100\n",
      "131/131 [==============================] - 1s 5ms/step - loss: 0.6897 - accuracy: 0.5267 - val_loss: 0.7291 - val_accuracy: 0.5392\n",
      "Epoch 79/100\n",
      "131/131 [==============================] - 1s 5ms/step - loss: 0.6855 - accuracy: 0.5526 - val_loss: 0.9105 - val_accuracy: 0.5363\n",
      "Epoch 80/100\n",
      "131/131 [==============================] - 1s 5ms/step - loss: 0.6884 - accuracy: 0.5439 - val_loss: 1.0030 - val_accuracy: 0.5421\n",
      "Epoch 81/100\n",
      "131/131 [==============================] - 1s 5ms/step - loss: 0.6890 - accuracy: 0.5382 - val_loss: 1.2542 - val_accuracy: 0.5392\n",
      "Epoch 82/100\n",
      "131/131 [==============================] - 1s 5ms/step - loss: 0.6875 - accuracy: 0.5465 - val_loss: 1.7220 - val_accuracy: 0.5382\n",
      "Epoch 83/100\n",
      "131/131 [==============================] - 1s 5ms/step - loss: 0.6878 - accuracy: 0.5408 - val_loss: 2.9433 - val_accuracy: 0.5296\n",
      "Epoch 84/100\n",
      "131/131 [==============================] - 1s 5ms/step - loss: 0.6864 - accuracy: 0.5528 - val_loss: 6.0222 - val_accuracy: 0.5354\n",
      "Epoch 85/100\n",
      "131/131 [==============================] - 1s 5ms/step - loss: 0.6874 - accuracy: 0.5409 - val_loss: 5.5659 - val_accuracy: 0.5325\n",
      "Epoch 86/100\n",
      "131/131 [==============================] - 1s 5ms/step - loss: 0.6901 - accuracy: 0.5307 - val_loss: 7.9070 - val_accuracy: 0.5373\n",
      "Epoch 87/100\n",
      "131/131 [==============================] - 1s 5ms/step - loss: 0.6892 - accuracy: 0.5400 - val_loss: 6.5359 - val_accuracy: 0.5306\n",
      "Epoch 88/100\n",
      "131/131 [==============================] - 1s 5ms/step - loss: 0.6848 - accuracy: 0.5507 - val_loss: 3.9014 - val_accuracy: 0.5344\n",
      "Epoch 89/100\n",
      "131/131 [==============================] - 1s 5ms/step - loss: 0.6884 - accuracy: 0.5409 - val_loss: 5.7205 - val_accuracy: 0.5382\n",
      "Epoch 90/100\n",
      "131/131 [==============================] - 1s 5ms/step - loss: 0.6879 - accuracy: 0.5170 - val_loss: 9.6860 - val_accuracy: 0.5239\n",
      "Epoch 91/100\n",
      "131/131 [==============================] - 1s 5ms/step - loss: 0.6910 - accuracy: 0.5390 - val_loss: 9.8068 - val_accuracy: 0.5163\n",
      "Epoch 92/100\n",
      "131/131 [==============================] - 1s 5ms/step - loss: 0.6899 - accuracy: 0.5334 - val_loss: 9.5807 - val_accuracy: 0.5411\n",
      "Epoch 93/100\n",
      "131/131 [==============================] - 1s 5ms/step - loss: 0.6867 - accuracy: 0.5599 - val_loss: 7.2521 - val_accuracy: 0.5488\n",
      "Epoch 94/100\n",
      "131/131 [==============================] - 1s 5ms/step - loss: 0.6864 - accuracy: 0.5378 - val_loss: 4.9125 - val_accuracy: 0.5287\n",
      "Epoch 95/100\n",
      "131/131 [==============================] - 1s 5ms/step - loss: 0.6865 - accuracy: 0.5447 - val_loss: 7.6744 - val_accuracy: 0.5220\n",
      "Epoch 96/100\n",
      "131/131 [==============================] - 1s 5ms/step - loss: 0.6851 - accuracy: 0.5471 - val_loss: 8.3527 - val_accuracy: 0.5287\n",
      "Epoch 97/100\n",
      "131/131 [==============================] - 1s 5ms/step - loss: 0.6843 - accuracy: 0.5618 - val_loss: 7.9033 - val_accuracy: 0.5057\n",
      "Epoch 98/100\n",
      "131/131 [==============================] - 1s 5ms/step - loss: 0.6889 - accuracy: 0.5232 - val_loss: 8.9854 - val_accuracy: 0.5354\n",
      "Epoch 99/100\n",
      "131/131 [==============================] - 1s 5ms/step - loss: 0.6861 - accuracy: 0.5392 - val_loss: 2.7800 - val_accuracy: 0.5000\n",
      "Epoch 100/100\n",
      "131/131 [==============================] - 1s 5ms/step - loss: 0.6849 - accuracy: 0.5449 - val_loss: 3.9916 - val_accuracy: 0.5373\n"
     ]
    }
   ],
   "source": [
    "history = model.fit(X_train, Y_train,  validation_data=(X_test, Y_test),\n",
    "          epochs=config.epochs,\n",
    "          batch_size=config.batch_size,\n",
    "          initial_epoch=wandb.run.step,  # for resumed runs\n",
    "          callbacks=[WandbCallback()])\n",
    "model.save(\"nn.h5\")"
   ]
  },
  {
   "cell_type": "code",
   "execution_count": 15,
   "id": "47bdec97",
   "metadata": {},
   "outputs": [
    {
     "data": {
      "image/png": "[encoded data removed]",
      "text/plain": [
       "<Figure size 864x288 with 2 Axes>"
      ]
     },
     "metadata": {
      "needs_background": "light"
     },
     "output_type": "display_data"
    }
   ],
   "source": [
    "f, (ax1, ax2) = plt.subplots(1, 2, figsize=(12, 4))\n",
    "t = f.suptitle('Performance', fontsize=12)\n",
    "f.subplots_adjust(top=0.85, wspace=0.3)\n",
    "\n",
    "epoch_list = list(range(1,Epoch+1))\n",
    "ax1.plot(epoch_list, history.history['accuracy'], label='Train Accuracy')\n",
    "ax1.plot(epoch_list, history.history['val_accuracy'], label='Validation Accuracy')\n",
    "ax1.set_xticks(np.arange(0, Epoch+1, Epoch))\n",
    "ax1.set_ylabel('Accuracy Value')\n",
    "ax1.set_xlabel('Epoch')\n",
    "ax1.set_title('Accuracy')\n",
    "l1 = ax1.legend(loc=\"best\")\n",
    "\n",
    "ax2.plot(epoch_list, history.history['loss'], label='Train Loss')\n",
    "ax2.plot(epoch_list, history.history['val_loss'], label='Validation Loss')\n",
    "ax2.set_xticks(np.arange(0, Epoch+1, Epoch))\n",
    "ax2.set_ylabel('Loss Value')\n",
    "ax2.set_xlabel('Epoch')\n",
    "ax2.set_title('Loss')\n",
    "l2 = ax2.legend(loc=\"best\")"
   ]
  },
  {
   "cell_type": "code",
   "execution_count": 16,
   "id": "647a611c",
   "metadata": {},
   "outputs": [
    {
     "name": "stdout",
     "output_type": "stream",
     "text": [
      "[[ 87 416]\n",
      " [ 68 475]]\n",
      "              precision    recall  f1-score   support\n",
      "\n",
      "           0       0.56      0.17      0.26       503\n",
      "           1       0.53      0.87      0.66       543\n",
      "\n",
      "    accuracy                           0.54      1046\n",
      "   macro avg       0.55      0.52      0.46      1046\n",
      "weighted avg       0.55      0.54      0.47      1046\n",
      "\n"
     ]
    },
    {
     "data": {
      "image/png": "[encoded data removed]",
      "text/plain": [
       "<Figure size 432x288 with 1 Axes>"
      ]
     },
     "metadata": {},
     "output_type": "display_data"
    }
   ],
   "source": [
    "import seaborn as sns\n",
    "from sklearn.metrics import confusion_matrix\n",
    "from sklearn.metrics import classification_report\n",
    "\n",
    "Y_pred = model.predict(X_test)\n",
    "y_pred = np.argmax(Y_pred,axis=1)\n",
    "mat = confusion_matrix(y_test,y_pred)\n",
    "\n",
    "sns.set(font_scale=1.5)\n",
    "sns.heatmap(mat,square=True,annot=True,fmt='d',cbar=False)\n",
    "\n",
    "plt.xticks(fontsize=20)\n",
    "plt.yticks(fontsize=20)\n",
    "\n",
    "plt.xlabel('pred label')\n",
    "plt.ylabel('true label')\n",
    "\n",
    "t = ['0','1']\n",
    "print(mat)\n",
    "print(classification_report(y_test,y_pred,target_names=t))"
   ]
  },
  {
   "cell_type": "markdown",
   "id": "59c41a3c",
   "metadata": {},
   "source": [
    "## ML"
   ]
  },
  {
   "cell_type": "code",
   "execution_count": 17,
   "id": "9063ad28",
   "metadata": {},
   "outputs": [
    {
     "name": "stdout",
     "output_type": "stream",
     "text": [
      "Accuracy of Decision Tree classifier on training set: 0.70\n",
      "Accuracy of Decision Tree classifier on test set: 0.60\n"
     ]
    }
   ],
   "source": [
    "#DecisionTreeClassifier\n",
    "from sklearn.tree import DecisionTreeClassifier\n",
    "\n",
    "clf = DecisionTreeClassifier(max_depth=12).fit(X_train, y_train) #max_depth=\n",
    "\n",
    "print('Accuracy of Decision Tree classifier on training set: {:.2f}'\n",
    "     .format(clf.score(X_train, y_train)))\n",
    "print('Accuracy of Decision Tree classifier on test set: {:.2f}'\n",
    "     .format(clf.score(X_test, y_test)))"
   ]
  },
  {
   "cell_type": "code",
   "execution_count": null,
   "id": "b54371e1",
   "metadata": {},
   "outputs": [],
   "source": []
  }
 ],
 "metadata": {
  "kernelspec": {
   "display_name": "Python 3 (ipykernel)",
   "language": "python",
   "name": "python3"
  },
  "language_info": {
   "codemirror_mode": {
    "name": "ipython",
    "version": 3
   },
   "file_extension": ".py",
   "mimetype": "text/x-python",
   "name": "python",
   "nbconvert_exporter": "python",
   "pygments_lexer": "ipython3",
   "version": "3.7.11"
  }
 },
 "nbformat": 4,
 "nbformat_minor": 5
}
