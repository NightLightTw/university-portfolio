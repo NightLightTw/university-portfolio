{
 "cells": [
  {
   "cell_type": "code",
   "execution_count": 1,
   "id": "08cb5ee6",
   "metadata": {},
   "outputs": [
    {
     "name": "stdout",
     "output_type": "stream",
     "text": [
      "env: KERAS_BACKEND=tensorflow\n"
     ]
    }
   ],
   "source": [
    "%env KERAS_BACKEND=tensorflow"
   ]
  },
  {
   "cell_type": "code",
   "execution_count": 145,
   "id": "c2cb6a2e",
   "metadata": {},
   "outputs": [],
   "source": [
    "%matplotlib inline\n",
    "from keras.models import Sequential\n",
    "from keras.layers import Dense, Conv2D, Flatten, MaxPooling2D,Activation\n",
    "from numpy import unique\n",
    "import numpy as np\n",
    "import matplotlib.pyplot as plt\n",
    "import time\n",
    "import seaborn as sns\n",
    "import tensorflow as tf\n",
    "import keras\n",
    "import pandas as pd\n",
    "from tensorflow.keras.optimizers import Adam\n",
    "from keras.utils import np_utils\n",
    "from sklearn.metrics import confusion_matrix\n",
    "from sklearn.metrics import classification_report\n",
    "from keras.datasets import mnist\n",
    "from sklearn.model_selection import train_test_split\n",
    "from keras.preprocessing.image import ImageDataGenerator\n",
    "from keras.callbacks import ReduceLROnPlateau"
   ]
  },
  {
   "cell_type": "code",
   "execution_count": 3,
   "id": "7eb60d93",
   "metadata": {},
   "outputs": [
    {
     "data": {
      "text/plain": [
       "(20604, 15, 15)"
      ]
     },
     "execution_count": 3,
     "metadata": {},
     "output_type": "execute_result"
    }
   ],
   "source": [
    "data=[]\n",
    "t=[0]*8\n",
    "for i in range(1,17):\n",
    "    d=pd.read_csv('flow{0}_v1_up.csv'.format(i))\n",
    "    if i>=4 and i<8:\n",
    "        t[3]+=len(d)//15+1\n",
    "    elif i>=9 and i<13:\n",
    "        t[5]+=len(d)//15+1\n",
    "    elif i>=13 and i<16:\n",
    "        t[6]+=len(d)//15+1\n",
    "    elif i==8:\n",
    "        t[4]+=len(d)//15+1\n",
    "    elif i==16:\n",
    "        t[7]+=len(d)//15+1\n",
    "    else:\n",
    "        t[i-1]+=len(d)//15+1\n",
    "    x=d.iloc[:,7:-1]\n",
    "    for e in range(len(x.columns)):\n",
    "        ma=max(x.iloc[:,e].values)\n",
    "        denominator=max(x.iloc[:,e].values)-min(x.iloc[:,e].values)\n",
    "        for j in range(len(x)):\n",
    "            if denominator==0:\n",
    "                x.iloc[:,e].values[j]=0\n",
    "            else:\n",
    "                x.iloc[:,e].values[j]=255*(ma-x.iloc[:,e].values[j])/denominator\n",
    "    X=x.to_numpy()\n",
    "    data.append(np.resize(X,((len(X)//15+1)*6,15,15)))\n",
    "x_=np.vstack(data)\n",
    "x_.shape"
   ]
  },
  {
   "cell_type": "code",
   "execution_count": 4,
   "id": "021b7685",
   "metadata": {},
   "outputs": [
    {
     "data": {
      "text/plain": [
       "(20604,)"
      ]
     },
     "execution_count": 4,
     "metadata": {},
     "output_type": "execute_result"
    }
   ],
   "source": [
    "Y=[]\n",
    "for i in t:\n",
    "    Y.extend([t.index(i)]*i*6)\n",
    "y=np.array(Y)\n",
    "y.shape"
   ]
  },
  {
   "cell_type": "code",
   "execution_count": null,
   "id": "945e0aaf",
   "metadata": {},
   "outputs": [],
   "source": [
    "X_train,X_test, y_train, y_test  = train_test_split(\n",
    "    x_, y, test_size=0.2, random_state=42)"
   ]
  },
  {
   "cell_type": "code",
   "execution_count": 6,
   "id": "7d5eb1f3",
   "metadata": {},
   "outputs": [
    {
     "data": {
      "text/plain": [
       "<matplotlib.image.AxesImage at 0x119b2601cd0>"
      ]
     },
     "execution_count": 6,
     "metadata": {},
     "output_type": "execute_result"
    },
    {
     "data": {
      "image/png": "[encoded data removed]",
      "text/plain": [
       "<Figure size 432x288 with 1 Axes>"
      ]
     },
     "metadata": {
      "needs_background": "light"
     },
     "output_type": "display_data"
    }
   ],
   "source": [
    "plt.imshow(X_train[9],cmap='Greys')"
   ]
  },
  {
   "cell_type": "code",
   "execution_count": 7,
   "id": "453b438d",
   "metadata": {},
   "outputs": [],
   "source": [
    "X_train=X_train.reshape(X_train.shape[0],15,15,1)"
   ]
  },
  {
   "cell_type": "code",
   "execution_count": 8,
   "id": "d8b43e9b",
   "metadata": {},
   "outputs": [],
   "source": [
    "X_test=X_test.reshape(X_test.shape[0],15,15,1)"
   ]
  },
  {
   "cell_type": "code",
   "execution_count": 9,
   "id": "665395da",
   "metadata": {},
   "outputs": [],
   "source": [
    "y_train=np_utils.to_categorical(y_train,8)\n",
    "y_test=np_utils.to_categorical(y_test,8)"
   ]
  },
  {
   "cell_type": "code",
   "execution_count": 165,
   "id": "71ba5f1e",
   "metadata": {},
   "outputs": [],
   "source": [
    "input_layer=[Conv2D(32,(3,3),padding='same',input_shape=(15,15,1)),\n",
    " Activation('relu'),\n",
    " MaxPooling2D(pool_size=(2,2),padding='same'),\n",
    " Conv2D(64,(3,3),padding='same'),\n",
    " Activation('relu'),\n",
    " MaxPooling2D(pool_size=(2,2)),\n",
    " Conv2D(128,(3,3),padding='same'),\n",
    " Activation('relu'), \n",
    " MaxPooling2D(pool_size=(2,2)),            \n",
    " Flatten(),\n",
    " Dense(300), \n",
    " keras.layers.BatchNormalization(),\n",
    " Activation('relu')]"
   ]
  },
  {
   "cell_type": "code",
   "execution_count": 166,
   "id": "1dfa1ed9",
   "metadata": {},
   "outputs": [],
   "source": [
    "packet_output_layer=[Dense(8),\n",
    "     Activation('softmax')]"
   ]
  },
  {
   "cell_type": "code",
   "execution_count": 167,
   "id": "305cb205",
   "metadata": {},
   "outputs": [],
   "source": [
    "m = Sequential(input_layer+packet_output_layer)"
   ]
  },
  {
   "cell_type": "code",
   "execution_count": 168,
   "id": "45862eb8",
   "metadata": {},
   "outputs": [
    {
     "name": "stdout",
     "output_type": "stream",
     "text": [
      "Model: \"sequential_22\"\n",
      "_________________________________________________________________\n",
      " Layer (type)                Output Shape              Param #   \n",
      "=================================================================\n",
      " conv2d_78 (Conv2D)          (None, 15, 15, 32)        320       \n",
      "                                                                 \n",
      " activation_132 (Activation)  (None, 15, 15, 32)       0         \n",
      "                                                                 \n",
      " max_pooling2d_60 (MaxPoolin  (None, 8, 8, 32)         0         \n",
      " g2D)                                                            \n",
      "                                                                 \n",
      " conv2d_79 (Conv2D)          (None, 8, 8, 64)          18496     \n",
      "                                                                 \n",
      " activation_133 (Activation)  (None, 8, 8, 64)         0         \n",
      "                                                                 \n",
      " max_pooling2d_61 (MaxPoolin  (None, 4, 4, 64)         0         \n",
      " g2D)                                                            \n",
      "                                                                 \n",
      " conv2d_80 (Conv2D)          (None, 4, 4, 128)         73856     \n",
      "                                                                 \n",
      " activation_134 (Activation)  (None, 4, 4, 128)        0         \n",
      "                                                                 \n",
      " max_pooling2d_62 (MaxPoolin  (None, 2, 2, 128)        0         \n",
      " g2D)                                                            \n",
      "                                                                 \n",
      " flatten_23 (Flatten)        (None, 512)               0         \n",
      "                                                                 \n",
      " dense_54 (Dense)            (None, 300)               153900    \n",
      "                                                                 \n",
      " batch_normalization_19 (Bat  (None, 300)              1200      \n",
      " chNormalization)                                                \n",
      "                                                                 \n",
      " activation_135 (Activation)  (None, 300)              0         \n",
      "                                                                 \n",
      " dense_55 (Dense)            (None, 8)                 2408      \n",
      "                                                                 \n",
      " activation_136 (Activation)  (None, 8)                0         \n",
      "                                                                 \n",
      "=================================================================\n",
      "Total params: 250,180\n",
      "Trainable params: 249,580\n",
      "Non-trainable params: 600\n",
      "_________________________________________________________________\n"
     ]
    }
   ],
   "source": [
    "m.summary()"
   ]
  },
  {
   "cell_type": "code",
   "execution_count": 169,
   "id": "f730226b",
   "metadata": {},
   "outputs": [],
   "source": [
    "m.compile(loss='CategoricalCrossentropy',optimizer='adam',metrics=['accuracy'])"
   ]
  },
  {
   "cell_type": "code",
   "execution_count": 171,
   "id": "9941219f",
   "metadata": {},
   "outputs": [
    {
     "name": "stdout",
     "output_type": "stream",
     "text": [
      "Epoch 1/100\n",
      "102/102 [==============================] - 1s 14ms/step - loss: 0.1396 - accuracy: 0.9550 - val_loss: 18.0757 - val_accuracy: 0.2416\n",
      "Epoch 2/100\n",
      "102/102 [==============================] - 1s 14ms/step - loss: 0.1212 - accuracy: 0.9627 - val_loss: 13.8169 - val_accuracy: 0.2798\n",
      "Epoch 3/100\n",
      "102/102 [==============================] - 1s 13ms/step - loss: 0.1221 - accuracy: 0.9603 - val_loss: 20.2777 - val_accuracy: 0.2338\n",
      "Epoch 4/100\n",
      "102/102 [==============================] - 1s 13ms/step - loss: 0.1349 - accuracy: 0.9575 - val_loss: 10.3006 - val_accuracy: 0.2549\n",
      "Epoch 5/100\n",
      "102/102 [==============================] - 1s 14ms/step - loss: 0.1329 - accuracy: 0.9580 - val_loss: 15.8361 - val_accuracy: 0.2278\n",
      "Epoch 6/100\n",
      "102/102 [==============================] - 1s 13ms/step - loss: 0.1221 - accuracy: 0.9613 - val_loss: 11.9717 - val_accuracy: 0.2784\n",
      "Epoch 7/100\n",
      "102/102 [==============================] - 1s 14ms/step - loss: 0.1122 - accuracy: 0.9653 - val_loss: 21.7151 - val_accuracy: 0.2931\n",
      "Epoch 8/100\n",
      "102/102 [==============================] - 1s 13ms/step - loss: 0.1201 - accuracy: 0.9643 - val_loss: 17.6455 - val_accuracy: 0.2977\n",
      "Epoch 9/100\n",
      "102/102 [==============================] - 1s 14ms/step - loss: 0.1105 - accuracy: 0.9675 - val_loss: 18.8737 - val_accuracy: 0.0686\n",
      "Epoch 10/100\n",
      "102/102 [==============================] - 1s 13ms/step - loss: 0.1084 - accuracy: 0.9666 - val_loss: 10.1582 - val_accuracy: 0.3180\n",
      "Epoch 11/100\n",
      "102/102 [==============================] - 1s 14ms/step - loss: 0.0971 - accuracy: 0.9696 - val_loss: 12.4139 - val_accuracy: 0.1560\n",
      "Epoch 12/100\n",
      "102/102 [==============================] - 1s 14ms/step - loss: 0.0925 - accuracy: 0.9716 - val_loss: 13.7033 - val_accuracy: 0.3065\n",
      "Epoch 13/100\n",
      "102/102 [==============================] - 1s 13ms/step - loss: 0.0994 - accuracy: 0.9689 - val_loss: 28.0148 - val_accuracy: 0.3060\n",
      "Epoch 14/100\n",
      "102/102 [==============================] - 1s 13ms/step - loss: 0.1204 - accuracy: 0.9626 - val_loss: 31.8695 - val_accuracy: 0.2936\n",
      "Epoch 15/100\n",
      "102/102 [==============================] - 1s 14ms/step - loss: 0.1121 - accuracy: 0.9630 - val_loss: 22.9638 - val_accuracy: 0.2752\n",
      "Epoch 16/100\n",
      "102/102 [==============================] - 1s 13ms/step - loss: 0.1056 - accuracy: 0.9679 - val_loss: 23.2310 - val_accuracy: 0.3051\n",
      "Epoch 17/100\n",
      "102/102 [==============================] - 1s 13ms/step - loss: 0.1010 - accuracy: 0.9727 - val_loss: 12.4583 - val_accuracy: 0.3116\n",
      "Epoch 18/100\n",
      "102/102 [==============================] - 1s 13ms/step - loss: 0.1058 - accuracy: 0.9687 - val_loss: 13.8775 - val_accuracy: 0.2701\n",
      "Epoch 19/100\n",
      "102/102 [==============================] - 1s 13ms/step - loss: 0.0988 - accuracy: 0.9695 - val_loss: 26.0773 - val_accuracy: 0.2025\n",
      "Epoch 20/100\n",
      "102/102 [==============================] - 1s 14ms/step - loss: 0.1220 - accuracy: 0.9604 - val_loss: 28.1138 - val_accuracy: 0.0594\n",
      "Epoch 21/100\n",
      "102/102 [==============================] - 1s 14ms/step - loss: 0.1236 - accuracy: 0.9604 - val_loss: 13.3106 - val_accuracy: 0.1634\n",
      "Epoch 22/100\n",
      "102/102 [==============================] - 1s 13ms/step - loss: 0.1193 - accuracy: 0.9636 - val_loss: 12.4462 - val_accuracy: 0.2098\n",
      "Epoch 23/100\n",
      "102/102 [==============================] - 1s 14ms/step - loss: 0.1121 - accuracy: 0.9636 - val_loss: 24.7624 - val_accuracy: 0.2568\n",
      "Epoch 24/100\n",
      "102/102 [==============================] - 1s 14ms/step - loss: 0.1107 - accuracy: 0.9650 - val_loss: 27.2454 - val_accuracy: 0.2936\n",
      "Epoch 25/100\n",
      "102/102 [==============================] - 1s 13ms/step - loss: 0.1009 - accuracy: 0.9679 - val_loss: 12.5453 - val_accuracy: 0.3088\n",
      "Epoch 26/100\n",
      "102/102 [==============================] - 1s 13ms/step - loss: 0.0853 - accuracy: 0.9724 - val_loss: 14.2622 - val_accuracy: 0.2950\n",
      "Epoch 27/100\n",
      "102/102 [==============================] - 1s 13ms/step - loss: 0.0908 - accuracy: 0.9708 - val_loss: 15.6296 - val_accuracy: 0.1376\n",
      "Epoch 28/100\n",
      "102/102 [==============================] - 1s 14ms/step - loss: 0.0949 - accuracy: 0.9705 - val_loss: 11.7908 - val_accuracy: 0.3272\n",
      "Epoch 29/100\n",
      "102/102 [==============================] - 1s 14ms/step - loss: 0.0848 - accuracy: 0.9732 - val_loss: 24.1514 - val_accuracy: 0.3056\n",
      "Epoch 30/100\n",
      "102/102 [==============================] - 1s 13ms/step - loss: 0.0920 - accuracy: 0.9712 - val_loss: 13.2759 - val_accuracy: 0.1790\n",
      "Epoch 31/100\n",
      "102/102 [==============================] - 1s 14ms/step - loss: 0.0786 - accuracy: 0.9765 - val_loss: 23.3214 - val_accuracy: 0.3060\n",
      "Epoch 32/100\n",
      "102/102 [==============================] - 1s 14ms/step - loss: 0.0796 - accuracy: 0.9759 - val_loss: 12.1675 - val_accuracy: 0.2678\n",
      "Epoch 33/100\n",
      "102/102 [==============================] - 1s 13ms/step - loss: 0.0810 - accuracy: 0.9730 - val_loss: 36.5469 - val_accuracy: 0.2020\n",
      "Epoch 34/100\n",
      "102/102 [==============================] - 1s 13ms/step - loss: 0.0898 - accuracy: 0.9710 - val_loss: 24.8146 - val_accuracy: 0.2931\n",
      "Epoch 35/100\n",
      "102/102 [==============================] - 1s 14ms/step - loss: 0.0887 - accuracy: 0.9719 - val_loss: 17.9000 - val_accuracy: 0.0925\n",
      "Epoch 36/100\n",
      "102/102 [==============================] - 1s 14ms/step - loss: 0.0913 - accuracy: 0.9725 - val_loss: 9.7473 - val_accuracy: 0.3134\n",
      "Epoch 37/100\n",
      "102/102 [==============================] - 1s 14ms/step - loss: 0.0754 - accuracy: 0.9771 - val_loss: 10.4663 - val_accuracy: 0.3171\n",
      "Epoch 38/100\n",
      "102/102 [==============================] - 1s 14ms/step - loss: 0.0832 - accuracy: 0.9748 - val_loss: 19.3202 - val_accuracy: 0.1905\n",
      "Epoch 39/100\n",
      "102/102 [==============================] - 1s 14ms/step - loss: 0.0998 - accuracy: 0.9687 - val_loss: 27.2941 - val_accuracy: 0.0603\n",
      "Epoch 40/100\n",
      "102/102 [==============================] - 1s 13ms/step - loss: 0.1069 - accuracy: 0.9643 - val_loss: 8.2296 - val_accuracy: 0.2103\n",
      "Epoch 41/100\n",
      "102/102 [==============================] - 1s 14ms/step - loss: 0.1125 - accuracy: 0.9644 - val_loss: 29.2761 - val_accuracy: 0.0520\n",
      "Epoch 42/100\n",
      "102/102 [==============================] - 1s 14ms/step - loss: 0.1065 - accuracy: 0.9649 - val_loss: 42.3789 - val_accuracy: 0.3060\n",
      "Epoch 43/100\n",
      "102/102 [==============================] - 1s 13ms/step - loss: 0.0980 - accuracy: 0.9701 - val_loss: 13.7834 - val_accuracy: 0.2724\n",
      "Epoch 44/100\n",
      "102/102 [==============================] - 1s 14ms/step - loss: 0.0700 - accuracy: 0.9776 - val_loss: 12.7570 - val_accuracy: 0.2398\n",
      "Epoch 45/100\n",
      "102/102 [==============================] - 1s 13ms/step - loss: 0.0778 - accuracy: 0.9753 - val_loss: 13.0812 - val_accuracy: 0.2697\n",
      "Epoch 46/100\n",
      "102/102 [==============================] - 1s 13ms/step - loss: 0.0739 - accuracy: 0.9776 - val_loss: 13.8813 - val_accuracy: 0.3005\n",
      "Epoch 47/100\n",
      "102/102 [==============================] - 1s 13ms/step - loss: 0.0701 - accuracy: 0.9787 - val_loss: 20.4960 - val_accuracy: 0.2977\n",
      "Epoch 48/100\n",
      "102/102 [==============================] - 1s 14ms/step - loss: 0.0725 - accuracy: 0.9750 - val_loss: 28.8780 - val_accuracy: 0.2016\n",
      "Epoch 49/100\n",
      "102/102 [==============================] - 1s 14ms/step - loss: 0.0922 - accuracy: 0.9733 - val_loss: 14.6171 - val_accuracy: 0.2237\n",
      "Epoch 50/100\n",
      "102/102 [==============================] - 1s 13ms/step - loss: 0.0844 - accuracy: 0.9736 - val_loss: 21.4206 - val_accuracy: 0.1753\n",
      "Epoch 51/100\n",
      "102/102 [==============================] - 1s 13ms/step - loss: 0.0711 - accuracy: 0.9770 - val_loss: 20.9851 - val_accuracy: 0.2347\n",
      "Epoch 52/100\n",
      "102/102 [==============================] - 1s 13ms/step - loss: 0.0673 - accuracy: 0.9784 - val_loss: 16.9263 - val_accuracy: 0.3014\n",
      "Epoch 53/100\n",
      "102/102 [==============================] - 1s 14ms/step - loss: 0.0775 - accuracy: 0.9761 - val_loss: 23.1413 - val_accuracy: 0.3056\n",
      "Epoch 54/100\n",
      "102/102 [==============================] - 1s 14ms/step - loss: 0.0753 - accuracy: 0.9782 - val_loss: 41.0581 - val_accuracy: 0.2020\n",
      "Epoch 55/100\n",
      "102/102 [==============================] - 1s 14ms/step - loss: 0.0814 - accuracy: 0.9755 - val_loss: 11.2429 - val_accuracy: 0.2273\n",
      "Epoch 56/100\n",
      "102/102 [==============================] - 1s 13ms/step - loss: 0.0833 - accuracy: 0.9747 - val_loss: 25.8725 - val_accuracy: 0.2954\n",
      "Epoch 57/100\n",
      "102/102 [==============================] - 1s 13ms/step - loss: 0.0787 - accuracy: 0.9750 - val_loss: 15.1447 - val_accuracy: 0.1841\n",
      "Epoch 58/100\n",
      "102/102 [==============================] - 1s 13ms/step - loss: 0.0830 - accuracy: 0.9761 - val_loss: 27.1094 - val_accuracy: 0.2927\n",
      "Epoch 59/100\n",
      "102/102 [==============================] - 1s 13ms/step - loss: 0.0642 - accuracy: 0.9811 - val_loss: 14.7596 - val_accuracy: 0.2950\n",
      "Epoch 60/100\n",
      "102/102 [==============================] - 1s 13ms/step - loss: 0.0670 - accuracy: 0.9793 - val_loss: 23.5046 - val_accuracy: 0.3060\n",
      "Epoch 61/100\n",
      "102/102 [==============================] - 1s 13ms/step - loss: 0.0749 - accuracy: 0.9761 - val_loss: 29.1239 - val_accuracy: 0.2315\n",
      "Epoch 62/100\n",
      "102/102 [==============================] - 1s 13ms/step - loss: 0.0768 - accuracy: 0.9771 - val_loss: 20.8838 - val_accuracy: 0.0920\n",
      "Epoch 63/100\n",
      "102/102 [==============================] - 1s 13ms/step - loss: 0.0701 - accuracy: 0.9802 - val_loss: 20.8451 - val_accuracy: 0.3069\n",
      "Epoch 64/100\n",
      "102/102 [==============================] - 1s 14ms/step - loss: 0.0829 - accuracy: 0.9767 - val_loss: 19.1283 - val_accuracy: 0.1353\n",
      "Epoch 65/100\n",
      "102/102 [==============================] - 1s 13ms/step - loss: 0.0753 - accuracy: 0.9761 - val_loss: 15.2256 - val_accuracy: 0.0704\n",
      "Epoch 66/100\n",
      "102/102 [==============================] - 1s 13ms/step - loss: 0.0683 - accuracy: 0.9791 - val_loss: 23.8855 - val_accuracy: 0.2936\n",
      "Epoch 67/100\n",
      "102/102 [==============================] - 1s 13ms/step - loss: 0.0877 - accuracy: 0.9719 - val_loss: 15.6504 - val_accuracy: 0.3069\n",
      "Epoch 68/100\n",
      "102/102 [==============================] - 1s 13ms/step - loss: 0.0635 - accuracy: 0.9785 - val_loss: 22.5730 - val_accuracy: 0.2674\n",
      "Epoch 69/100\n",
      "102/102 [==============================] - 1s 13ms/step - loss: 0.0763 - accuracy: 0.9770 - val_loss: 12.8301 - val_accuracy: 0.3069\n",
      "Epoch 70/100\n",
      "102/102 [==============================] - 1s 13ms/step - loss: 0.0752 - accuracy: 0.9748 - val_loss: 20.0924 - val_accuracy: 0.2918\n",
      "Epoch 71/100\n",
      "102/102 [==============================] - 1s 14ms/step - loss: 0.0763 - accuracy: 0.9791 - val_loss: 10.6936 - val_accuracy: 0.2425\n",
      "Epoch 72/100\n",
      "102/102 [==============================] - 1s 13ms/step - loss: 0.0660 - accuracy: 0.9811 - val_loss: 14.9077 - val_accuracy: 0.1983\n",
      "Epoch 73/100\n",
      "102/102 [==============================] - 1s 13ms/step - loss: 0.0674 - accuracy: 0.9797 - val_loss: 13.8265 - val_accuracy: 0.2471\n",
      "Epoch 74/100\n",
      "102/102 [==============================] - 1s 13ms/step - loss: 0.0613 - accuracy: 0.9820 - val_loss: 9.4248 - val_accuracy: 0.1275\n",
      "Epoch 75/100\n",
      "102/102 [==============================] - 1s 13ms/step - loss: 0.0583 - accuracy: 0.9817 - val_loss: 17.9516 - val_accuracy: 0.1210\n",
      "Epoch 76/100\n",
      "102/102 [==============================] - 1s 13ms/step - loss: 0.0668 - accuracy: 0.9790 - val_loss: 17.2938 - val_accuracy: 0.2052\n",
      "Epoch 77/100\n",
      "102/102 [==============================] - 1s 13ms/step - loss: 0.0760 - accuracy: 0.9770 - val_loss: 32.7001 - val_accuracy: 0.1072\n",
      "Epoch 78/100\n",
      "102/102 [==============================] - 1s 13ms/step - loss: 0.0686 - accuracy: 0.9793 - val_loss: 11.4923 - val_accuracy: 0.2711\n",
      "Epoch 79/100\n",
      "102/102 [==============================] - 1s 13ms/step - loss: 0.0660 - accuracy: 0.9805 - val_loss: 27.1467 - val_accuracy: 0.2609\n",
      "Epoch 80/100\n",
      "102/102 [==============================] - 1s 13ms/step - loss: 0.0695 - accuracy: 0.9805 - val_loss: 18.8719 - val_accuracy: 0.0520\n",
      "Epoch 81/100\n",
      "102/102 [==============================] - 1s 13ms/step - loss: 0.0581 - accuracy: 0.9833 - val_loss: 13.3737 - val_accuracy: 0.1220\n",
      "Epoch 82/100\n",
      "102/102 [==============================] - 1s 13ms/step - loss: 0.0692 - accuracy: 0.9768 - val_loss: 25.1033 - val_accuracy: 0.2977\n",
      "Epoch 83/100\n",
      "102/102 [==============================] - 1s 13ms/step - loss: 0.0848 - accuracy: 0.9736 - val_loss: 21.9855 - val_accuracy: 0.3162\n",
      "Epoch 84/100\n",
      "102/102 [==============================] - 1s 13ms/step - loss: 0.0832 - accuracy: 0.9741 - val_loss: 22.7638 - val_accuracy: 0.0750\n",
      "Epoch 85/100\n",
      "102/102 [==============================] - 1s 13ms/step - loss: 0.0743 - accuracy: 0.9767 - val_loss: 52.4938 - val_accuracy: 0.0483\n",
      "Epoch 86/100\n",
      "102/102 [==============================] - 1s 14ms/step - loss: 0.0760 - accuracy: 0.9768 - val_loss: 10.3708 - val_accuracy: 0.2628\n",
      "Epoch 87/100\n",
      "102/102 [==============================] - 1s 13ms/step - loss: 0.0688 - accuracy: 0.9765 - val_loss: 18.4919 - val_accuracy: 0.2421\n",
      "Epoch 88/100\n",
      "102/102 [==============================] - 1s 13ms/step - loss: 0.0768 - accuracy: 0.9774 - val_loss: 12.8907 - val_accuracy: 0.2572\n",
      "Epoch 89/100\n",
      "102/102 [==============================] - 1s 13ms/step - loss: 0.0702 - accuracy: 0.9785 - val_loss: 15.6696 - val_accuracy: 0.2329\n",
      "Epoch 90/100\n",
      "102/102 [==============================] - 1s 13ms/step - loss: 0.0682 - accuracy: 0.9797 - val_loss: 48.6819 - val_accuracy: 0.0474\n",
      "Epoch 91/100\n",
      "102/102 [==============================] - 1s 13ms/step - loss: 0.0647 - accuracy: 0.9805 - val_loss: 26.1551 - val_accuracy: 0.3148\n",
      "Epoch 92/100\n",
      "102/102 [==============================] - 1s 14ms/step - loss: 0.0548 - accuracy: 0.9834 - val_loss: 15.1236 - val_accuracy: 0.2770\n",
      "Epoch 93/100\n",
      "102/102 [==============================] - 1s 14ms/step - loss: 0.0392 - accuracy: 0.9880 - val_loss: 21.3926 - val_accuracy: 0.3028\n",
      "Epoch 94/100\n",
      "102/102 [==============================] - 1s 13ms/step - loss: 0.0434 - accuracy: 0.9871 - val_loss: 35.1612 - val_accuracy: 0.2020\n",
      "Epoch 95/100\n",
      "102/102 [==============================] - 1s 13ms/step - loss: 0.0529 - accuracy: 0.9839 - val_loss: 17.2761 - val_accuracy: 0.1523\n",
      "Epoch 96/100\n",
      "102/102 [==============================] - 1s 14ms/step - loss: 0.0582 - accuracy: 0.9813 - val_loss: 28.0786 - val_accuracy: 0.2908\n",
      "Epoch 97/100\n",
      "102/102 [==============================] - 1s 13ms/step - loss: 0.0567 - accuracy: 0.9848 - val_loss: 27.0069 - val_accuracy: 0.3069\n",
      "Epoch 98/100\n",
      "102/102 [==============================] - 1s 13ms/step - loss: 0.0531 - accuracy: 0.9844 - val_loss: 30.3602 - val_accuracy: 0.2936\n",
      "Epoch 99/100\n",
      "102/102 [==============================] - 1s 14ms/step - loss: 0.0709 - accuracy: 0.9790 - val_loss: 21.0930 - val_accuracy: 0.0566\n",
      "Epoch 100/100\n",
      "102/102 [==============================] - 1s 13ms/step - loss: 0.0646 - accuracy: 0.9808 - val_loss: 14.6008 - val_accuracy: 0.1003\n"
     ]
    }
   ],
   "source": [
    "train_history=m.fit(X_train,y_train,validation_split=0.25,epochs=100,batch_size=64,verbose=1)"
   ]
  },
  {
   "cell_type": "code",
   "execution_count": 172,
   "id": "02c58908",
   "metadata": {},
   "outputs": [
    {
     "data": {
      "image/png": "[encoded data removed]",
      "text/plain": [
       "<Figure size 864x288 with 2 Axes>"
      ]
     },
     "metadata": {
      "needs_background": "light"
     },
     "output_type": "display_data"
    }
   ],
   "source": [
    "f,(ax1,ax2)=plt.subplots(1,2,figsize=(12,4))\n",
    "t=f.suptitle('class model evaluate',fontsize=12)\n",
    "f.subplots_adjust(top=0.85,wspace=0.3)\n",
    "\n",
    "class_epoch_list=list(range(1,101))\n",
    "ax1.plot(class_epoch_list,train_history.history['accuracy'],label='class_Train Accuracy')\n",
    "ax1.plot(class_epoch_list,train_history.history['val_accuracy'],label='class_Validation Accuracy')\n",
    "ax1.set_xticks(np.arange(0,101,5))\n",
    "ax1.set_ylabel('class_Accuracy Value')\n",
    "ax1.set_xlabel('class_Epoch')\n",
    "ax1.set_title('class_Accuracy')\n",
    "l1=ax1.legend(loc='best')\n",
    "\n",
    "ax2.plot(class_epoch_list,train_history.history['loss'],label='class_Train Loss')\n",
    "ax2.plot(class_epoch_list,train_history.history['val_loss'],label='class_Validation Loss')\n",
    "ax2.set_xticks(np.arange(0,101,5))\n",
    "ax2.set_ylabel('class_Loss Value')\n",
    "ax2.set_xlabel('class_Epoch')\n",
    "ax2.set_title('class_Loss')\n",
    "l2=ax2.legend(loc='best')"
   ]
  },
  {
   "cell_type": "markdown",
   "id": "6980e45b",
   "metadata": {},
   "source": [
    "time_pre=m.predict(X_test) \n",
    "y_pred=np.argmax(time_pre,axis=1)\n",
    "y_test=np.argmax(y_test,axis=1)"
   ]
  },
  {
   "cell_type": "code",
   "execution_count": 173,
   "id": "5c14506e",
   "metadata": {},
   "outputs": [
    {
     "data": {
      "text/plain": [
       "Text(0.5, 13.5, 'predicted label')"
      ]
     },
     "execution_count": 173,
     "metadata": {},
     "output_type": "execute_result"
    },
    {
     "data": {
      "image/png": "[encoded data removed]",
      "text/plain": [
       "<Figure size 432x288 with 1 Axes>"
      ]
     },
     "metadata": {},
     "output_type": "display_data"
    }
   ],
   "source": [
    "mat=confusion_matrix(y_test,y_pred)\n",
    "\n",
    "sns.set(font_scale=0.8)\n",
    "plt.subplot(1,1,1)\n",
    "sns.heatmap(mat,square=True,annot=True,fmt='d',cbar=False)\n",
    "plt.xticks(fontsize=10)\n",
    "plt.yticks(fontsize=10)\n",
    "\n",
    "plt.ylabel('true label')\n",
    "plt.xlabel('predicted label')"
   ]
  },
  {
   "cell_type": "code",
   "execution_count": 174,
   "id": "cf42d880",
   "metadata": {},
   "outputs": [
    {
     "name": "stdout",
     "output_type": "stream",
     "text": [
      "              precision    recall  f1-score   support\n",
      "\n",
      "           0       0.07      0.04      0.05       229\n",
      "           1       0.06      0.04      0.05       259\n",
      "           2       0.05      0.03      0.04       321\n",
      "           3       0.41      0.40      0.40      1678\n",
      "           4       0.08      0.06      0.07       227\n",
      "           5       0.32      0.40      0.36      1528\n",
      "           6       0.20      0.20      0.20       888\n",
      "           7       0.80      0.19      0.31        21\n",
      "\n",
      "    accuracy                           0.29      5151\n",
      "   macro avg       0.25      0.17      0.18      5151\n",
      "weighted avg       0.28      0.29      0.28      5151\n",
      "\n"
     ]
    }
   ],
   "source": [
    "target_names=['0','1','2','3','4','5','6','7']\n",
    "print(classification_report(y_test,y_pred,target_names=target_names))"
   ]
  },
  {
   "cell_type": "code",
   "execution_count": null,
   "id": "d62632cd",
   "metadata": {},
   "outputs": [],
   "source": []
  },
  {
   "cell_type": "code",
   "execution_count": null,
   "id": "2a9125a8",
   "metadata": {},
   "outputs": [],
   "source": []
  }
 ],
 "metadata": {
  "kernelspec": {
   "display_name": "Python 3 (ipykernel)",
   "language": "python",
   "name": "python3"
  },
  "language_info": {
   "codemirror_mode": {
    "name": "ipython",
    "version": 3
   },
   "file_extension": ".py",
   "mimetype": "text/x-python",
   "name": "python",
   "nbconvert_exporter": "python",
   "pygments_lexer": "ipython3",
   "version": "3.9.7"
  }
 },
 "nbformat": 4,
 "nbformat_minor": 5
}
